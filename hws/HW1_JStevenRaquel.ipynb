{
 "cells": [
  {
   "cell_type": "markdown",
   "metadata": {},
   "source": [
    "# Homework 1\n",
    "\n",
    "J Steven Raquel\n",
    "PSTAT 134\n",
    "Fri 9AM Section\n",
    "\n",
    "## Simulating a confidence interval\n",
    "\n",
    "For this assignment, I am going to create a simulation of a confidence interval of the Normal distribution, by simulating random observations from the distribution, computing the mean and variance estimates, and comparing them \n",
    "to the theoretical confidence results. \n",
    "\n",
    "More specifically, I am going to simulate from a Normal distribution with mean 100 and variance 20, and the confidence level I am going to use is 0.05."
   ]
  },
  {
   "cell_type": "code",
   "execution_count": 1,
   "metadata": {},
   "outputs": [],
   "source": [
    "import numpy as np\n",
    "import scipy as sp\n",
    "import scipy.stats"
   ]
  },
  {
   "cell_type": "code",
   "execution_count": null,
   "metadata": {},
   "outputs": [],
   "source": []
  }
 ],
 "metadata": {
  "kernelspec": {
   "display_name": "Python 3",
   "language": "python",
   "name": "python3"
  },
  "language_info": {
   "codemirror_mode": {
    "name": "ipython",
    "version": 3
   },
   "file_extension": ".py",
   "mimetype": "text/x-python",
   "name": "python",
   "nbconvert_exporter": "python",
   "pygments_lexer": "ipython3",
   "version": "3.6.5"
  }
 },
 "nbformat": 4,
 "nbformat_minor": 2
}
