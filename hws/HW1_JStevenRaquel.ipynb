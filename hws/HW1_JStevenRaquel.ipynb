{
 "cells": [
  {
   "cell_type": "markdown",
   "metadata": {},
   "source": [
    "# Homework 1\n",
    "\n",
    "J Steven Raquel\n",
    "PSTAT 134\n",
    "Fri 9AM Section\n",
    "\n",
    "## Testing for distributions\n",
    "\n",
    "For this assignment, I will simulate data from two different distributions and use hypothesis testing to determine whether the data actually conforms to the distribution they were sampled from. "
   ]
  },
  {
   "cell_type": "code",
   "execution_count": 156,
   "metadata": {},
   "outputs": [],
   "source": [
    "# importing the necessary modules\n",
    "import numpy as np\n",
    "import pandas as pd\n",
    "import random\n",
    "from scipy import stats\n",
    "from math import sqrt"
   ]
  },
  {
   "cell_type": "code",
   "execution_count": 157,
   "metadata": {},
   "outputs": [],
   "source": [
    "# a function that counts the times a coin comes up heads (1)\n",
    "def coin_flip(size):\n",
    "    heads = 0\n",
    "    for x in range(size):\n",
    "        flip = random.randint(0,1) # picking randomly between 0 and 1\n",
    "        if flip == 1: \n",
    "            heads += 1\n",
    "    return heads"
   ]
  },
  {
   "cell_type": "markdown",
   "metadata": {},
   "source": [
    "A coin flip follows the Bernoulli distribution, which is itself a special case of the Binomial distribution. \n",
    "\n",
    "The following code simulates flipping coins a different number of times, recording how many times it comes up heads, and what percentage of the flips in each session were heads. "
   ]
  },
  {
   "cell_type": "code",
   "execution_count": 158,
   "metadata": {},
   "outputs": [],
   "source": [
    "# different sample sizes\n",
    "n_choices = np.array([5, 10, 15, 20, 25, 50, 100])\n",
    "# simulating different numbers of coin flips and storing it in an array\n",
    "sims = []\n",
    "for n in n_choices:\n",
    "    sims += [coin_flip(n)]"
   ]
  },
  {
   "cell_type": "code",
   "execution_count": 159,
   "metadata": {},
   "outputs": [
    {
     "data": {
      "text/html": [
       "<div>\n",
       "<table border=\"1\" class=\"dataframe\">\n",
       "  <thead>\n",
       "    <tr style=\"text-align: right;\">\n",
       "      <th></th>\n",
       "      <th>n_flips</th>\n",
       "      <th>n_heads</th>\n",
       "      <th>pct_heads</th>\n",
       "    </tr>\n",
       "  </thead>\n",
       "  <tbody>\n",
       "    <tr>\n",
       "      <th>0</th>\n",
       "      <td>5</td>\n",
       "      <td>3</td>\n",
       "      <td>0.600000</td>\n",
       "    </tr>\n",
       "    <tr>\n",
       "      <th>1</th>\n",
       "      <td>10</td>\n",
       "      <td>5</td>\n",
       "      <td>0.500000</td>\n",
       "    </tr>\n",
       "    <tr>\n",
       "      <th>2</th>\n",
       "      <td>15</td>\n",
       "      <td>10</td>\n",
       "      <td>0.666667</td>\n",
       "    </tr>\n",
       "    <tr>\n",
       "      <th>3</th>\n",
       "      <td>20</td>\n",
       "      <td>10</td>\n",
       "      <td>0.500000</td>\n",
       "    </tr>\n",
       "    <tr>\n",
       "      <th>4</th>\n",
       "      <td>25</td>\n",
       "      <td>9</td>\n",
       "      <td>0.360000</td>\n",
       "    </tr>\n",
       "    <tr>\n",
       "      <th>5</th>\n",
       "      <td>50</td>\n",
       "      <td>32</td>\n",
       "      <td>0.640000</td>\n",
       "    </tr>\n",
       "    <tr>\n",
       "      <th>6</th>\n",
       "      <td>100</td>\n",
       "      <td>55</td>\n",
       "      <td>0.550000</td>\n",
       "    </tr>\n",
       "  </tbody>\n",
       "</table>\n",
       "</div>"
      ],
      "text/plain": [
       "   n_flips  n_heads  pct_heads\n",
       "0        5        3   0.600000\n",
       "1       10        5   0.500000\n",
       "2       15       10   0.666667\n",
       "3       20       10   0.500000\n",
       "4       25        9   0.360000\n",
       "5       50       32   0.640000\n",
       "6      100       55   0.550000"
      ]
     },
     "execution_count": 159,
     "metadata": {},
     "output_type": "execute_result"
    }
   ],
   "source": [
    "# creating a data.frame of the number of throws and the percentage of heads\n",
    "df = pd.DataFrame({\n",
    "    'n_flips': n_choices,\n",
    "    'n_heads': sims,\n",
    "    'pct_heads' : sims / n_choices\n",
    "})\n",
    "df"
   ]
  },
  {
   "cell_type": "markdown",
   "metadata": {},
   "source": [
    "As we can see in the table and the following graph, it's quite clear that as you increase the sample size, the sample mean will gradually approach the theoretical mean. Since we know that our coin in this case is fair, it should come as no surprise that although initial flips were far from the theoretical mean (0.5) the increase in sample size decreased the variance more and more. "
   ]
  },
  {
   "cell_type": "code",
   "execution_count": 160,
   "metadata": {},
   "outputs": [
    {
     "data": {
      "image/png": "[encoded data removed]",
      "text/plain": [
       "<Figure size 576x396 with 1 Axes>"
      ]
     },
     "metadata": {},
     "output_type": "display_data"
    }
   ],
   "source": [
    "# for plotting\n",
    "%matplotlib inline\n",
    "import matplotlib.pyplot as plt\n",
    "import seaborn; seaborn.set()  # set plot style\n",
    "from IPython.core.pylabtools import figsize\n",
    "\n",
    "# plotting number of flips vs percentage that came up heads\n",
    "axes = plt.gca()\n",
    "axes.set_ylim([0,1])\n",
    "figsize(11, 9)\n",
    "plt.plot(df['n_flips'], df['pct_heads']);\n",
    "plt.xlabel(\"Number of flips (n)\");\n",
    "plt.ylabel(\"Percentage that came up heads\");"
   ]
  },
  {
   "cell_type": "markdown",
   "metadata": {},
   "source": [
    "## Hypothesis Testing\n",
    "\n",
    "Let $p$ equal the probability that a certain coin comes up heads. \n",
    "\n",
    "Suppose we have the null and alternative hypotheses \n",
    "\n",
    "$H_0: \\text{The coin is fair } (p = 0.5)$\n",
    "\n",
    "$H_1: \\text{The coin is not fair } (p \\neq 0.5)$"
   ]
  },
  {
   "cell_type": "markdown",
   "metadata": {},
   "source": [
    "Suppose we have flipped a coin 100 times and 57% of the time is has come up heads, as you can see in the simulation above. \n",
    "\n",
    "We can use a two-sided Z-test to test whether or not the coin is truly fair. \n",
    "\n",
    "This consists of calculating a test statistic $z$, which 'standardizes' our sample mean to the standard Normal distribution. This employs the Normal approximation to the Binomial distribution. This is possible for large sample size $n$, via the Central Limit Theorem which states that as the sample size approaches infinity, the distribution will approach Normality. This parameter is more specifically considered fulfilled if $np \\geq 10$ and $nq \\geq 10$, which is fulfilled in our case.\n",
    "\n",
    "The Z-statistic quantifies how far away our sample mean $\\hat{p}$ is from the true population mean $p$ (0.5). We then compare the statistic to a critical value determined by the confidence level $\\alpha$. If the absolute value of our test-statistic (because it's a two-sided test) exceeds this critical value, then we reject the null hypothesis $H_0$.\n",
    "\n",
    "For the Binomial distribution, the Z-statistic is calculated thusly\n",
    "\n",
    "$$z = \\frac{\\bar{x} - x - p}{\\sqrt{npq}}$$\n",
    "\n",
    "where $q = 1-p$ and $n$ is the sample size, 100.\n",
    "\n",
    "At a confidence level of $\\alpha = 0.05$, we would _reject_ the null hypothesis $H_0$ if $|z| > 1.96$.\n",
    "\n",
    "Our $\\hat{p} = 0.57$, $p = 0.5$, and $q = 0.5$. Therefore our Z-statistic is"
   ]
  },
  {
   "cell_type": "code",
   "execution_count": 161,
   "metadata": {},
   "outputs": [
    {
     "data": {
      "text/plain": [
       "1.3"
      ]
     },
     "execution_count": 161,
     "metadata": {},
     "output_type": "execute_result"
    }
   ],
   "source": [
    "(57-50-0.5)/sqrt(100*0.5*0.5)"
   ]
  },
  {
   "cell_type": "markdown",
   "metadata": {},
   "source": [
    "Since 1.3 < 1.96, we have insufficient evidence to reject the null hypothesis at the 0.05 confidence level, and conclude that the coin is fair. We know this to be true given that we sampled from a distribution in which both heads and tails had an equal probablity of occurring."
   ]
  },
  {
   "cell_type": "markdown",
   "metadata": {},
   "source": [
    "## Confidence Level\n",
    "\n",
    "When we set the confidence level $\\alpha$, we are essentially designating a threshold. For a two-sided Z-test at a confidence level of 0.05, we are saying that if our sample mean is more than 1.96 standard deviations away from the theoretical mean, it is more than 5% probable to be a Type I error. This probability is known as the **p-value**. The confidence level can be said to represent the maximum probability of Type I error that we are comfortable with accepting, or the *empirical probability of a Type I error*.\n",
    "\n",
    "### Type I and Type II errors\n",
    "\n",
    "The confidence level $\\alpha$ is also the probability of incurring a **Type I error**, which is to reject a true null hypothesis, otherwise known as a _false positive_. Conversely, a **Type II error** is to fail to reject a false null hypothesis, or a _false negative_. The probability of a Type II error is represented by $\\beta$. The probability of _not_ incurring a Type 2 error in a hypothesis test is called the 'power' of a test. \n",
    "\n",
    "In our example, a Type I error is analogous to conclude that a fair coin is unfair, and a Type II error would be to conclude that an unfair coin is fair. \n",
    "\n",
    "The confidence level is the theoretical probability of the Type I error--we reject the null hypothesis if this probability is exceeded.\n",
    "\n",
    "The **power** of a hypothesis test is determined by a number of factors, namely the confidence level and the sample size. The larger the sample size, the greater the power of the test. We can also set a higher confidence level $\\alpha$--thereby increasing our chances at a Type I error. So there is a sort of trade-off between Type I and Type II error inherent in hypothesis testing. The power can also be increased by doing a one-sided test. In our example, a two-sided test tests the alternative hypothesis that the coin is simply not fair ($H_1: p \\neq 0.5$), i.e. it is either more likely to be heads or tails. A one-sided test would test against the alternative that the coin is only more likely to be heads ($H_1: p > 0.5$), or more likely to be tails ($H_1: p < 0.5$), where $p$ is the probability of landing heads.\n",
    "\n",
    "We can illustrate the effects of adjusting the confidence level and the sample size, as well as test different alternative hypotheses, to witness the effect on the power of the test.\n",
    "\n",
    "### Adjusting confidence level\n",
    "\n",
    "Suppose we sample from a distribution in which we know that the coin is unfair ($p \\neq 0.5$), and test it against the null hypothesis that it *is* fair. We can compare our results at different confidence levels and see how the conclusions differ, if at all. "
   ]
  },
  {
   "cell_type": "code",
   "execution_count": 162,
   "metadata": {},
   "outputs": [],
   "source": [
    "# simulating a weighted coin with true p = 0.6\n",
    "def coin2_flip(size):\n",
    "    heads = 0\n",
    "    for x in range(size):\n",
    "        flip = random.random()\n",
    "        if flip <= 0.6:\n",
    "            heads += 1\n",
    "    return heads"
   ]
  },
  {
   "cell_type": "code",
   "execution_count": 163,
   "metadata": {},
   "outputs": [],
   "source": [
    "n_choices = np.array([5, 10, 15, 20, 25, 50, 100])\n",
    "\n",
    "# simulating different numbers of coin flips and storing it in an array\n",
    "sims2 = []\n",
    "for n in n_choices:\n",
    "    sims2 += [coin2_flip(n)]"
   ]
  },
  {
   "cell_type": "code",
   "execution_count": 164,
   "metadata": {},
   "outputs": [
    {
     "data": {
      "text/html": [
       "<div>\n",
       "<table border=\"1\" class=\"dataframe\">\n",
       "  <thead>\n",
       "    <tr style=\"text-align: right;\">\n",
       "      <th></th>\n",
       "      <th>n_flips</th>\n",
       "      <th>n_heads</th>\n",
       "      <th>pct_heads</th>\n",
       "    </tr>\n",
       "  </thead>\n",
       "  <tbody>\n",
       "    <tr>\n",
       "      <th>0</th>\n",
       "      <td>5</td>\n",
       "      <td>2</td>\n",
       "      <td>0.400000</td>\n",
       "    </tr>\n",
       "    <tr>\n",
       "      <th>1</th>\n",
       "      <td>10</td>\n",
       "      <td>4</td>\n",
       "      <td>0.400000</td>\n",
       "    </tr>\n",
       "    <tr>\n",
       "      <th>2</th>\n",
       "      <td>15</td>\n",
       "      <td>8</td>\n",
       "      <td>0.533333</td>\n",
       "    </tr>\n",
       "    <tr>\n",
       "      <th>3</th>\n",
       "      <td>20</td>\n",
       "      <td>12</td>\n",
       "      <td>0.600000</td>\n",
       "    </tr>\n",
       "    <tr>\n",
       "      <th>4</th>\n",
       "      <td>25</td>\n",
       "      <td>10</td>\n",
       "      <td>0.400000</td>\n",
       "    </tr>\n",
       "    <tr>\n",
       "      <th>5</th>\n",
       "      <td>50</td>\n",
       "      <td>30</td>\n",
       "      <td>0.600000</td>\n",
       "    </tr>\n",
       "    <tr>\n",
       "      <th>6</th>\n",
       "      <td>100</td>\n",
       "      <td>69</td>\n",
       "      <td>0.690000</td>\n",
       "    </tr>\n",
       "  </tbody>\n",
       "</table>\n",
       "</div>"
      ],
      "text/plain": [
       "   n_flips  n_heads  pct_heads\n",
       "0        5        2   0.400000\n",
       "1       10        4   0.400000\n",
       "2       15        8   0.533333\n",
       "3       20       12   0.600000\n",
       "4       25       10   0.400000\n",
       "5       50       30   0.600000\n",
       "6      100       69   0.690000"
      ]
     },
     "execution_count": 164,
     "metadata": {},
     "output_type": "execute_result"
    }
   ],
   "source": [
    "# creating a data.frame of the number of throws and the percentage of heads\n",
    "df2 = pd.DataFrame({\n",
    "    'n_flips': n_choices,\n",
    "    'n_heads': sims2,\n",
    "    'pct_heads' : sims2 / n_choices\n",
    "})\n",
    "df2"
   ]
  },
  {
   "cell_type": "code",
   "execution_count": 165,
   "metadata": {},
   "outputs": [
    {
     "data": {
      "text/plain": [
       "2.1"
      ]
     },
     "execution_count": 165,
     "metadata": {},
     "output_type": "execute_result"
    }
   ],
   "source": [
    "# calculating Z-statistic\n",
    "(61-50-0.5)/sqrt(100*0.5*0.5)"
   ]
  },
  {
   "cell_type": "markdown",
   "metadata": {},
   "source": [
    "Our Z-statistic for this two-sided test is 2.1. Note that at the 0.05 confidence level, we would make the correct decision reject the null hypothesis, but at the 0.01 confidence level, we would fail to do so. This is because 2.1 exceeds the critical value of 1.96 for $\\alpha=0.05$, but does not exceed the critical value 2.57 for $\\alpha=0.01$.\n",
    "\n",
    "In simplest terms, the lowered confidence level increased the probability of a Type II error, which is exactly what happened when we concluded that the coin was fair, when it is in fact not. This can also be described as having decreased the power of the test.\n",
    "\n",
    "Lowering the confidence level lowered our willingness to incur a false positive (Type I error), but it backfired when we ended up with a false negative instead."
   ]
  },
  {
   "cell_type": "markdown",
   "metadata": {},
   "source": [
    "### Theoretical and Empirical Type I and Type II error\n",
    "\n",
    "To reiterate, when we set a confidence level for a hypothesis test, we are establishing a theoretical probability of Type I error. When our empirical probability of Type I error (p-value) does not exceed this threshold, we reject the null hypothesis. If it exceeds it, we reject the null, because the probability of incurring the error outweighs our 'confidence' that we will not. \n",
    "\n",
    "P-values can be computed by using the binomial cumulative distribution function (CDF). For a two-sided test, the p-value is calculated by the equation\n",
    "\n",
    "$ 2 * P(X \\geq x)$\n",
    "\n",
    "where x is the number of successes, and X is a random variable from the population."
   ]
  },
  {
   "cell_type": "code",
   "execution_count": 166,
   "metadata": {},
   "outputs": [
    {
     "data": {
      "text/plain": [
       "0.035200200217704813"
      ]
     },
     "execution_count": 166,
     "metadata": {},
     "output_type": "execute_result"
    }
   ],
   "source": [
    "# p-value for two-sided test with x = 64, n = 100, p = 0.5\n",
    "# sampled from 100 flips of an unfair coin\n",
    "stats.binom_test(61,100,0.5,alternative = 'two-sided')"
   ]
  },
  {
   "cell_type": "markdown",
   "metadata": {},
   "source": [
    "This p-value of 0.0352 is greater than 0.01, but lower than 0.05, which is of course consistent with our earlier conclusions at the two different confidence levels to fail to reject and to reject the null hypothesis, respectively. \n",
    "\n",
    "### Calculating Power\n",
    "\n",
    "It would be of interest to see how our empirical Type II error changed with the adjustment in confidence level, since that is how the error occurred in the first place.\n",
    "\n",
    "We know that the Z-statistic must be at least 1.96 to reject at the 0.05 level, and at least 2.57 at the 0.01 level. We would like to find the values at which point this thresholds are met. "
   ]
  },
  {
   "cell_type": "code",
   "execution_count": 167,
   "metadata": {},
   "outputs": [
    {
     "data": {
      "text/plain": [
       "2.7"
      ]
     },
     "execution_count": 167,
     "metadata": {},
     "output_type": "execute_result"
    }
   ],
   "source": [
    "# reject at both 0.05 and 0.01\n",
    "(64-50-0.5)/sqrt(100*0.5*0.5)"
   ]
  },
  {
   "cell_type": "code",
   "execution_count": 168,
   "metadata": {},
   "outputs": [
    {
     "data": {
      "text/plain": [
       "2.1"
      ]
     },
     "execution_count": 168,
     "metadata": {},
     "output_type": "execute_result"
    }
   ],
   "source": [
    "# reject at 0.05 but not at 0.01\n",
    "(61-50-0.5)/sqrt(100*0.5*0.5)"
   ]
  },
  {
   "cell_type": "markdown",
   "metadata": {},
   "source": [
    "Looking at the Z-score table to determine the probability of exceeding these values, we get 1 - 0.9965 and 1- .9821, respectively, or "
   ]
  },
  {
   "cell_type": "code",
   "execution_count": 169,
   "metadata": {},
   "outputs": [
    {
     "data": {
      "text/plain": [
       "0.0034999999999999476"
      ]
     },
     "execution_count": 169,
     "metadata": {},
     "output_type": "execute_result"
    }
   ],
   "source": [
    "# power of 0.01 test\n",
    "1-0.9965"
   ]
  },
  {
   "cell_type": "code",
   "execution_count": 170,
   "metadata": {},
   "outputs": [
    {
     "data": {
      "text/plain": [
       "0.017900000000000027"
      ]
     },
     "execution_count": 170,
     "metadata": {},
     "output_type": "execute_result"
    }
   ],
   "source": [
    "# power of 0.05 test\n",
    "1-0.9821"
   ]
  },
  {
   "cell_type": "markdown",
   "metadata": {},
   "source": [
    "Thusly we see how the power increases when you increase confidence level, as we illustrated when we incurred a Type II error at the lower confidence level, but not at the higher one."
   ]
  }
 ],
 "metadata": {
  "kernelspec": {
   "display_name": "Python 3",
   "language": "python",
   "name": "python3"
  },
  "language_info": {
   "codemirror_mode": {
    "name": "ipython",
    "version": 3
   },
   "file_extension": ".py",
   "mimetype": "text/x-python",
   "name": "python",
   "nbconvert_exporter": "python",
   "pygments_lexer": "ipython3",
   "version": "3.6.5"
  }
 },
 "nbformat": 4,
 "nbformat_minor": 2
}
