{
 "cells": [
  {
   "cell_type": "markdown",
   "metadata": {},
   "source": [
    "# Homework 1\n",
    "\n",
    "J Steven Raquel\n",
    "PSTAT 134\n",
    "Fri 9AM Section\n",
    "\n",
    "## Testing for distributions\n",
    "\n",
    "For this assignment, I will simulate data from two different distributions and use hypothesis testing to determine whether the data actually conforms to the distribution they were sampled from. "
   ]
  },
  {
   "cell_type": "code",
   "execution_count": 268,
   "metadata": {},
   "outputs": [],
   "source": [
    "# importing the necessary modules\n",
    "import numpy as np\n",
    "import pandas as pd\n",
    "import random as rd\n",
    "# to simulate from a Bernoulli distribution\n",
    "from scipy.stats import bernoulli,poisson,norm,expon\n",
    "# for plotting\n",
    "%matplotlib inline\n",
    "import matplotlib.pyplot as plt\n",
    "import seaborn; seaborn.set()  # set plot style\n",
    "from IPython.core.pylabtools import figsize"
   ]
  },
  {
   "cell_type": "code",
   "execution_count": 269,
   "metadata": {},
   "outputs": [],
   "source": [
    "# a function that counts the times a coin comes up heads (1)\n",
    "def coin_flip(size):\n",
    "    heads = 0\n",
    "    for x in range(size):\n",
    "        flip = random.randint(0,1) # picking randomly between 0 and 1\n",
    "        if flip == 1: \n",
    "            heads += 1\n",
    "    return heads"
   ]
  },
  {
   "cell_type": "markdown",
   "metadata": {},
   "source": [
    "A coin flip follows the Bernoulli distribution, which is itself a special case of the Binomial distribution. \n",
    "\n",
    "The following code simulates flipping coins a different number of times, recording how many times it comes up heads, and what percentage of the flips in each session were heads. "
   ]
  },
  {
   "cell_type": "code",
   "execution_count": 251,
   "metadata": {},
   "outputs": [],
   "source": [
    "# different sample sizes\n",
    "n_choices = np.array([5, 10, 15, 20, 25, 50, 100, 200])\n",
    "\n",
    "# simulating different numbers of coin flips and storing it in an array\n",
    "sims = []\n",
    "for n in n_choices:\n",
    "    sims += [coin_flip(n)]"
   ]
  },
  {
   "cell_type": "code",
   "execution_count": 252,
   "metadata": {},
   "outputs": [
    {
     "data": {
      "text/html": [
       "<div>\n",
       "<table border=\"1\" class=\"dataframe\">\n",
       "  <thead>\n",
       "    <tr style=\"text-align: right;\">\n",
       "      <th></th>\n",
       "      <th>n_flips</th>\n",
       "      <th>n_heads</th>\n",
       "      <th>pct_heads</th>\n",
       "    </tr>\n",
       "  </thead>\n",
       "  <tbody>\n",
       "    <tr>\n",
       "      <th>0</th>\n",
       "      <td>5</td>\n",
       "      <td>4</td>\n",
       "      <td>0.800000</td>\n",
       "    </tr>\n",
       "    <tr>\n",
       "      <th>1</th>\n",
       "      <td>10</td>\n",
       "      <td>4</td>\n",
       "      <td>0.400000</td>\n",
       "    </tr>\n",
       "    <tr>\n",
       "      <th>2</th>\n",
       "      <td>15</td>\n",
       "      <td>5</td>\n",
       "      <td>0.333333</td>\n",
       "    </tr>\n",
       "    <tr>\n",
       "      <th>3</th>\n",
       "      <td>20</td>\n",
       "      <td>12</td>\n",
       "      <td>0.600000</td>\n",
       "    </tr>\n",
       "    <tr>\n",
       "      <th>4</th>\n",
       "      <td>25</td>\n",
       "      <td>14</td>\n",
       "      <td>0.560000</td>\n",
       "    </tr>\n",
       "    <tr>\n",
       "      <th>5</th>\n",
       "      <td>50</td>\n",
       "      <td>28</td>\n",
       "      <td>0.560000</td>\n",
       "    </tr>\n",
       "    <tr>\n",
       "      <th>6</th>\n",
       "      <td>100</td>\n",
       "      <td>57</td>\n",
       "      <td>0.570000</td>\n",
       "    </tr>\n",
       "    <tr>\n",
       "      <th>7</th>\n",
       "      <td>200</td>\n",
       "      <td>103</td>\n",
       "      <td>0.515000</td>\n",
       "    </tr>\n",
       "  </tbody>\n",
       "</table>\n",
       "</div>"
      ],
      "text/plain": [
       "   n_flips  n_heads  pct_heads\n",
       "0        5        4   0.800000\n",
       "1       10        4   0.400000\n",
       "2       15        5   0.333333\n",
       "3       20       12   0.600000\n",
       "4       25       14   0.560000\n",
       "5       50       28   0.560000\n",
       "6      100       57   0.570000\n",
       "7      200      103   0.515000"
      ]
     },
     "execution_count": 252,
     "metadata": {},
     "output_type": "execute_result"
    }
   ],
   "source": [
    "# creating a data.frame of the number of throws and the percentage of heads\n",
    "df = pd.DataFrame({\n",
    "    'n_flips': n_choices,\n",
    "    'n_heads': sims,\n",
    "    'pct_heads' : sims / n_choices,\n",
    "})\n",
    "df"
   ]
  },
  {
   "cell_type": "markdown",
   "metadata": {},
   "source": [
    "As we can see in the table and the following graph, it's quite clear that as you increase the sample size, the sample mean will gradually approach the theoretical mean. Since we know that our coin in this case is fair, it should come as no surprise that although initial flips were far from the theoretical mean (0.5) the increase in sample size decreased the variance more and more. "
   ]
  },
  {
   "cell_type": "code",
   "execution_count": 285,
   "metadata": {},
   "outputs": [
    {
     "data": {
      "image/png": "[encoded data removed]",
      "text/plain": [
       "<Figure size 576x396 with 1 Axes>"
      ]
     },
     "metadata": {},
     "output_type": "display_data"
    }
   ],
   "source": [
    "# plotting number of flips vs percentage that came up heads\n",
    "axes = plt.gca()\n",
    "axes.set_ylim([0,1])\n",
    "\n",
    "figsize(11, 9)\n",
    "plt.plot(df['n_flips'], df['pct_heads']);\n",
    "plt.xlabel(\"Number of flips (n)\");\n",
    "plt.ylabel(\"Percentage that came up heads\");"
   ]
  },
  {
   "cell_type": "markdown",
   "metadata": {},
   "source": [
    "## Hypothesis Testing\n",
    "\n",
    "Let $p$ equal the probability that a certain coin comes up heads. \n",
    "\n",
    "Suppose we have the null and alternative hypotheses \n",
    "\n",
    "$H_0: \\text{The coin is fair } (p = 0.5)$\n",
    "\n",
    "$H_1: \\text{The coin is not fair } (p \\neq 0.5)$"
   ]
  },
  {
   "cell_type": "markdown",
   "metadata": {},
   "source": [
    "Suppose we have flipped a coin 100 times and 57% of the time is has come up heads, as you can see in the simulation above. \n",
    "\n",
    "We can use a two-sided Z-test to test whether or not the coin is truly fair. \n",
    "\n",
    "This consists of calculating a test statistic $z$, which 'standardizes' our sample mean to the standard Normal distribution. This employs the Normal approximation to the Binomial distribution.\n",
    "\n",
    "The statistic quantifies how far away our sample mean $\\hat{p}$ is from the true population mean $p$ (0.5). We then compare the statistic to a critical value determined by the confidence level $\\alpha$. If the absolute value of our test-statistic (because it's a two-sided test) exceeds this critical value, then we reject the null hypothesis $H_0$.\n",
    "\n",
    "Our test statistic $z$ is calculated via the formula\n",
    "\n",
    "$$z = \\frac{\\hat{p} - p}{\\sqrt{\\frac{pq}{N}}}$$\n",
    "\n",
    "where $q = 1-p$ and $N$ is the sample size, 200.\n",
    "\n",
    "At a confidence level of $\\alpha = 0.05$, we would _reject_ the null hypothesis $H_0$ if $|z| > 1.96$.\n",
    "\n",
    "Our $\\hat{p} = 0.57$, $p = 0.5$, and $q = 0.5$. Therefore our Z-statistic is"
   ]
  },
  {
   "cell_type": "code",
   "execution_count": 279,
   "metadata": {},
   "outputs": [
    {
     "data": {
      "text/plain": [
       "1.399999999999999"
      ]
     },
     "execution_count": 279,
     "metadata": {},
     "output_type": "execute_result"
    }
   ],
   "source": [
    "z = (0.57-0.5)/sqrt((0.5*0.5)/100)\n",
    "z"
   ]
  },
  {
   "cell_type": "markdown",
   "metadata": {},
   "source": [
    "A Z-statistic of 1.399 means that our sample $\\hat{p}$ is 1.399 standard deviations from the theoretical mean, 0.5. Since 1.399 is smaller than 1.96, we would fail to reject the null hypothesis in this case and conclude that the coin is fair. \n",
    "\n",
    "A Z-statistic greater than 1.96 would result in us rejecting the null hypothesis, because the probability of getting such a value and the null hypothesis still being true is too low for us to consider it. This is about avoiding a **type I error**. \n",
    "\n",
    "### Type I and Type II errors\n",
    "\n",
    "The confidence level $\\alpha$ is also the probability of incurring a **Type I error**, which is to reject a true null hypothesis, otherwise known as a _false positive_. Conversely, a **Type II error** is to fail to reject a false null hypothesis, or a _false negative_. The probability of a Type II error is represented by $\\beta$. The probability of _not_ incurring a Type 2 error in a hypothesis test is called the 'power' of a test. \n",
    "\n",
    "When we set the confidence level, we are essentially designating a threshold. For a two-sided Z-test at a confidence level of 0.05, we are saying that if our sample is more than 1.96 standard deviations away from the theoretical mean, it is more than 5% likely to be a Type I error. This probability is known as the **p-value**. In this example, a test-statistic greater than 1.96 would have a p-value greater than 0.05. \n",
    "\n",
    "### Power of a test\n",
    "\n",
    "The **power** of a hypothesis test is determined by a number of factors, namely the confidence level and the sample size. The larger the sample size, the greater the power of the test. We can also set a higher confidence level. But again, that also means increasing our chances at a Type I error--thus the trade-off between incurring a false negative and a false positive is illustrated. "
   ]
  }
 ],
 "metadata": {
  "kernelspec": {
   "display_name": "Python 3",
   "language": "python",
   "name": "python3"
  },
  "language_info": {
   "codemirror_mode": {
    "name": "ipython",
    "version": 3
   },
   "file_extension": ".py",
   "mimetype": "text/x-python",
   "name": "python",
   "nbconvert_exporter": "python",
   "pygments_lexer": "ipython3",
   "version": "3.6.5"
  }
 },
 "nbformat": 4,
 "nbformat_minor": 2
}
