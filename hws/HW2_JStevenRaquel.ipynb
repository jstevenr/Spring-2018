{
 "cells": [
  {
   "cell_type": "markdown",
   "metadata": {},
   "source": [
    "## PSTAT 134\n",
    "## J Steven Raquel\n",
    "## Fri 9am Section"
   ]
  },
  {
   "cell_type": "markdown",
   "metadata": {},
   "source": [
    "## Assignment 2\n",
    "\n",
    "Our objective of this assignment is to create an interactive dashboard in this Jupyter notebook, using NBA data.\n",
    "\n",
    "### Problem 1\n",
    "\n",
    "First we need to download the data. We can do this by using the `get_nba_data()` function that was defined in Lecture 5. We can redefine here and then utilize it. "
   ]
  },
  {
   "cell_type": "code",
   "execution_count": null,
   "metadata": {},
   "outputs": [],
   "source": [
    "import numpy as np\n",
    "import ipywidgets as widgets\n",
    "from IPython.display import display\n",
    "import matplotlib.pyplot as plt\n",
    "\n",
    "%matplotlib nbagg"
   ]
  },
  {
   "cell_type": "code",
   "execution_count": null,
   "metadata": {},
   "outputs": [],
   "source": [
    "# Problem 1\n",
    "# from Lecture 5, Data Frame and Visualization\n",
    "import pandas as pd\n",
    "\n",
    "def get_nba_data(endpt, params, return_url=False):\n",
    "\n",
    "    ## endpt: https://github.com/seemethere/nba_py/wiki/stats.nba.com-Endpoint-Documentation\n",
    "    ## params: dictionary of parameters: i.e., {'LeagueID':'00'}\n",
    "    \n",
    "    from pandas import DataFrame\n",
    "    from urllib.parse import urlencode\n",
    "    import json\n",
    "    \n",
    "    useragent = \"\\\"Mozilla/5.0 (Macintosh; Intel Mac OS X 10_11_2) AppleWebKit/601.3.9 (KHTML, like Gecko) Version/9.0.2 Safari/601.3.9\\\"\"\n",
    "    dataurl = \"\\\"\" + \"http://stats.nba.com/stats/\" + endpt + \"?\" + urlencode(params) + \"\\\"\"\n",
    "    \n",
    "    # for debugging: just return the url\n",
    "    if return_url:\n",
    "        return(dataurl)\n",
    "    \n",
    "    jsonstr = !wget -q -O - --user-agent={useragent} {dataurl}\n",
    "    \n",
    "    data = json.loads(jsonstr[0])\n",
    "    \n",
    "    h = data['resultSets'][0]['headers']\n",
    "    d = data['resultSets'][0]['rowSet']\n",
    "    \n",
    "    return(DataFrame(d, columns=h))"
   ]
  },
  {
   "cell_type": "markdown",
   "metadata": {},
   "source": [
    "This function allows us to directly download the NBA data, with the specific parameters that we set. We're going to use it to take info about the 2016-17 teams and their rosters, and later to pull specific shot chart information about each player."
   ]
  },
  {
   "cell_type": "markdown",
   "metadata": {},
   "source": [
    "### Cleaning the data\n",
    "\n",
    "Our first step is to import the teams and the players from the NBA into DataFrames that we can use, with the `get_nba_data()` function. The following code, taken from Lecture 5, subsets and cleans the data, and shows how to group by team abbreviation, and by code. "
   ]
  },
  {
   "cell_type": "code",
   "execution_count": null,
   "metadata": {},
   "outputs": [],
   "source": [
    "## get all teams\n",
    "params = {'LeagueID':'00'}\n",
    "teams = get_nba_data('commonTeamYears', params)"
   ]
  },
  {
   "cell_type": "code",
   "execution_count": null,
   "metadata": {},
   "outputs": [],
   "source": [
    "## get all players\n",
    "params = {'LeagueID':'00', 'Season': '2016-17', 'IsOnlyCurrentSeason': '0'}\n",
    "players = get_nba_data('commonallplayers', params)"
   ]
  },
  {
   "cell_type": "code",
   "execution_count": null,
   "metadata": {},
   "outputs": [],
   "source": [
    "# changing types of the columns\n",
    "teams.ABBREVIATION = teams.ABBREVIATION.astype('category')\n",
    "teams.TEAM_ID      = teams.TEAM_ID.astype('category')\n",
    "teams.MIN_YEAR     = teams.MIN_YEAR.astype('int')\n",
    "teams.MAX_YEAR     = teams.MAX_YEAR.astype('int')"
   ]
  },
  {
   "cell_type": "markdown",
   "metadata": {},
   "source": [
    "We're only looking at the teams and players who were active up to the 2016-17 season, as such we're going to subset the data up to the current teams."
   ]
  },
  {
   "cell_type": "code",
   "execution_count": null,
   "metadata": {},
   "outputs": [],
   "source": [
    "# subset just current teams\n",
    "teams = teams[teams['MAX_YEAR'] == 2017] # selecting only teams active as late as 2017\n",
    "teams['TEAM_AGE'] = teams.MAX_YEAR - teams.MIN_YEAR # new columns for age of the team\n",
    "teams_clean = teams.copy() ## make a copy for later "
   ]
  },
  {
   "cell_type": "code",
   "execution_count": null,
   "metadata": {},
   "outputs": [],
   "source": [
    "# adding 'TEAM_ABBREVIATION'\n",
    "team_names = players[['TEAM_ABBREVIATION', 'TEAM_CODE']].drop_duplicates()#.set_index('TEAM_ABBREVIATION')\n",
    "teams = pd.merge(teams_clean, team_names, left_on='ABBREVIATION', right_on='TEAM_ABBREVIATION')\n",
    "teams.TEAM_CODE = teams.TEAM_CODE.str.capitalize() # returns values so needs to be reassigned\n",
    "teams.sort_values('ABBREVIATION', inplace=True)    # modifies object"
   ]
  },
  {
   "cell_type": "markdown",
   "metadata": {},
   "source": [
    "We'll do the same thing with the players as well so that we have only those who were playing in the 2016-17 season. "
   ]
  },
  {
   "cell_type": "code",
   "execution_count": null,
   "metadata": {},
   "outputs": [],
   "source": [
    "# subset just the players in current teams\n",
    "players = players[players.TEAM_ID.isin(teams.TEAM_ID)]"
   ]
  },
  {
   "cell_type": "code",
   "execution_count": null,
   "metadata": {},
   "outputs": [],
   "source": [
    "# create a dictionary of teams with their abbreviation and team ID\n",
    "team_dd_text = teams.TEAM_ABBREVIATION+', '+teams.TEAM_CODE\n",
    "team_dd = dict(zip(team_dd_text, teams.TEAM_ID))\n",
    "\n",
    "plyr_by_team_dd = dict()\n",
    "for t, p in players.groupby('TEAM_ID'):\n",
    "    plyr_by_team_dd[t] = dict(zip(p.DISPLAY_LAST_COMMA_FIRST, p.PERSON_ID))\n",
    "    \n",
    "plyr_dd_text = players.DISPLAY_LAST_COMMA_FIRST\n",
    "plyr_dd_id = players.PERSON_ID\n",
    "plyr_dd = dict(zip(plyr_dd_text, plyr_dd_id))"
   ]
  },
  {
   "cell_type": "markdown",
   "metadata": {},
   "source": [
    "### Problem 2\n",
    "#### Creating widgets\n",
    "\n",
    "The first two widgets are drop-down menus that allow us to select the team and a player from the team's roster. These were given in the lecture.\n",
    "\n",
    "The third widget is a third drop-down menu that allows you to select the range from which a player was shooting relative to the basket: 16-24 ft, 24+ ft, 8-16 ft, a Back Court Shot (from behind the midway line) and less than 8ft away."
   ]
  },
  {
   "cell_type": "code",
   "execution_count": null,
   "metadata": {},
   "outputs": [],
   "source": [
    "from ipywidgets import interact, FloatSlider, Dropdown, Button\n",
    "\n",
    "selected = 'LAC, Clippers'\n",
    "selected2 = 'Less Than 8 ft.'\n",
    "# dictionary of ranges\n",
    "ranges = {'Less Than 8 ft.': '',\n",
    "         '8-16 ft.': '',\n",
    "         '16-24 ft.' : '',\n",
    "         '24+ ft.': '',\n",
    "         'Back Court Shot': ''}\n",
    "\n",
    "team_menu = Dropdown(options=team_dd, label=selected)\n",
    "plyr_menu = Dropdown(options=plyr_by_team_dd[team_dd[selected]])\n",
    "range_menu = Dropdown(options=ranges.keys(), value = selected2)  \n",
    "fetch_button = Button(description='Count Attempts!', icon='check')\n",
    "\n",
    "# showing the buttons\n",
    "display(team_menu, plyr_menu, range_menu, fetch_button)\n",
    "\n",
    "## update players list\n",
    "def update_team(change):\n",
    "    plyr_menu.index = None\n",
    "    plyr_menu.options = plyr_by_team_dd[change['new']]\n",
    "    plyr_menu.value = list(plyr_by_team_dd[change['new']].values())[0]\n",
    "\n",
    "# to change the team/players when the user alters the team\n",
    "team_menu.observe(update_team, names = 'value')"
   ]
  },
  {
   "cell_type": "markdown",
   "metadata": {},
   "source": [
    "### Problem 3\n",
    "#### Downloading data with changing widget states\n",
    "\n",
    "So we want to make sure that the data correctly pulls from the NBA stats database. The function `get_range_stats()` queries the NBA API based on the team and player selected, counting the number of shots they've attempted from various distances. \n",
    "\n",
    "Clicking the button below should now print out the number of attempts they made at that distance in the 2016-2017 season."
   ]
  },
  {
   "cell_type": "code",
   "execution_count": null,
   "metadata": {},
   "outputs": [],
   "source": [
    "# this function gets the number of attempts from a certain range\n",
    "def get_range_stats(change):\n",
    "    params = {'PlayerID': plyr_menu.value,\n",
    "      'PlayerPosition':'',\n",
    "      'Season':'2016-17',\n",
    "      'ContextMeasure':'FGA',\n",
    "      'DateFrom':'',\n",
    "      'DateTo':'',\n",
    "      'GameID':'',\n",
    "      'GameSegment':'',\n",
    "      'LastNGames':'0',\n",
    "      'LeagueID':'00',\n",
    "      'Location':'',\n",
    "      'Month':'0',\n",
    "      'OpponentTeamID':'0',\n",
    "      'Outcome':'',\n",
    "      'Period':'0',\n",
    "      'Position':'',\n",
    "      'RookieYear':'',\n",
    "      'SeasonSegment':'',\n",
    "      'SeasonType':'Regular Season',\n",
    "      'TeamID': team_menu.value,\n",
    "      'VsConference':'',\n",
    "      'VsDivision':''}\n",
    "\n",
    "    plyr_data = get_nba_data('shotchartdetail', params)\n",
    "    fga = plyr_data.groupby('SHOT_ZONE_RANGE')['SHOT_ATTEMPTED_FLAG'].count().to_dict()\n",
    "    # adding zeroes into the dictionary for unattempted ranges\n",
    "    for key,value in ranges.items():\n",
    "        if key not in fga:\n",
    "            fga[key] = 0\n",
    "    print(\"This player attempted \", fga[range_menu.value], \n",
    "          \" shots from this range in the 2016-2017 season.\", sep = \"\")\n",
    "    \n",
    "# showing the widgets and now adding the on_click functionality\n",
    "display(team_menu, plyr_menu, range_menu, fetch_button)\n",
    "fetch_button.on_click(get_range_stats)"
   ]
  },
  {
   "cell_type": "markdown",
   "metadata": {},
   "source": [
    "### Problem 4\n",
    "#### Data transformation and visualization\n",
    "\n",
    "Now we want to create a couple of data transformations using the split-apply-combine approach from Lecture 05. We will utilize the `groupby` function to create summaries of different groupings in order to accomplish this. \n",
    "\n",
    "* The _split_ step will break up and group a DataFrame depending on the value of the specified key, for example some categorical variable like 'Team' or 'Year'. \n",
    "\n",
    "* The _apply_ step computes some function within individual groups. \n",
    "\n",
    "* The _combine_ step merges the results of these operations into an output array.\n",
    "\n",
    "#### James Harden's 2016-17 season\n",
    "\n",
    "I'm going to choose to scrutinize the 2016-17 statistics of Houston Rockets player, James Harden. Harden is a shooting guard, a position which is expected to score a lot of points, and he is one of the most successful players in his position currently. \n",
    "\n",
    "The question we would like to answer using this approach is, how does the Houston Rockets player James Harden's shooting average change when going from home, to away? "
   ]
  },
  {
   "cell_type": "code",
   "execution_count": null,
   "metadata": {},
   "outputs": [],
   "source": [
    "# querying NBA API for Harden's 2016-17 season statistics\n",
    "params = {'PlayerID':'201935',\n",
    "          'PlayerPosition':'',\n",
    "          'Season':'2016-17',\n",
    "          'ContextMeasure':'FGA',\n",
    "          'DateFrom':'',\n",
    "          'DateTo':'',\n",
    "          'GameID':'',\n",
    "          'GameSegment':'',\n",
    "          'LastNGames':'0',\n",
    "          'LeagueID':'00',\n",
    "          'Location':'',\n",
    "          'Month':'0',\n",
    "          'OpponentTeamID':'0',\n",
    "          'Outcome':'',\n",
    "          'Period':'0',\n",
    "          'Position':'',\n",
    "          'RookieYear':'',\n",
    "          'SeasonSegment':'',\n",
    "          'SeasonType':'Regular Season',\n",
    "          'TeamID':'0',\n",
    "          'VsConference':'',\n",
    "          'VsDivision':''}\n",
    "\n",
    "harden_shotdata = get_nba_data('shotchartdetail', params)"
   ]
  },
  {
   "cell_type": "markdown",
   "metadata": {},
   "source": [
    "### Bar graph of Harden's field goal percentage at home and away\n",
    "\n",
    "What follows is a bar graph depicting Harden's field goal percentage at and away from home. This is to depict the age-old adage of the 'home court advantage', which implies that teams (or players) perform better when playing at home than they do away. "
   ]
  },
  {
   "cell_type": "code",
   "execution_count": null,
   "metadata": {},
   "outputs": [],
   "source": [
    "# vector of all the home teams, including his own home team\n",
    "import matplotlib.pyplot as plt; plt.rcdefaults()\n",
    "import numpy as np\n",
    "\n",
    "season_avg = harden_shotdata['SHOT_MADE_FLAG'].mean() # 0.44\n",
    "\n",
    "# all team abbreviations, alphabetized\n",
    "home_teams = sorted(harden_shotdata['HTM'].unique())\n",
    "shot_avg = harden_shotdata.groupby('HTM')['SHOT_MADE_FLAG'].mean()\n",
    "\n",
    "# creating the bar plot\n",
    "fig, ax = plt.subplots()\n",
    "y_pos = np.arange(len(home_teams))\n",
    "plt.barh(y_pos, shot_avg, align='center', alpha=0.5, color = 'red')\n",
    "plt.yticks(y_pos, home_teams)\n",
    "ax.invert_yaxis()\n",
    "plt.xlim(0,1)\n",
    "plt.xlabel(\"Shooting Average\")\n",
    "plt.title(\"Harden's Shooting Avg vs Different Home Teams, NBA '16-17 Season\")\n",
    "# drawing a vertical line of his 2016-2017 shooting average\n",
    "plt.axvline(x=season_avg, color ='blue', alpha=0.5, \n",
    "            label= \"Mean Season FG% (.44)\")\n",
    "plt.legend(loc='upper right')\n",
    "plt.show()"
   ]
  },
  {
   "cell_type": "markdown",
   "metadata": {},
   "source": [
    "### Observations\n",
    "\n",
    "When we look at Harden's shooting average over the whole of the season relative to who was playing at home, a couple of interesting observations emerge. \n",
    "\n",
    "Firstly, Harden performed well under his season average against the Indiana Pacers (IND) and the Oklahoma City Thunder (OKC). Secondly, he performed pretty much close to his own average when playing at home in Houston (HOU). He had a remarkable strong performance away at Cleveland.\n",
    "\n",
    "On the subject of Harden's background, Harden played for Arizona State near Phoenix when he was in college, and his numbers at Phoenix mirror those of his numbers when playing at home in Houston. He also played for Oklahoma City for three years before transferring to the Rockets, and his second least successful performance away from home was in Oklahoma. \n",
    "\n",
    "### Plot of Harden's field goal percentage vs distance from basket\n",
    "\n",
    "The mark of a good shooter in basketball is being able to land shots from all around the court. We can make a line plot depicting Harden's field goal percentage, while also taking into account what percentage of his shots actually occur at that distance. "
   ]
  },
  {
   "cell_type": "code",
   "execution_count": null,
   "metadata": {},
   "outputs": [],
   "source": [
    "from matplotlib import axes\n",
    "# grouping by shot_distance, and returning the avg shots landed and count of shots attempted\n",
    "avg_by_distance = harden_shotdata.groupby('SHOT_DISTANCE')['SHOT_MADE_FLAG'].agg(['mean','count'])\n",
    "total_games = len(harden_shotdata)\n",
    "distances = np.arange(len(avg_by_distance))\n",
    "pct_of_attempts = avg_by_distance['count'] / total_games\n",
    "plt.plot(distances, avg_by_distance['mean'], \n",
    "            color = 'blue', alpha=0.5, \n",
    "            label='Mean FG%')\n",
    "plt.plot(distances, pct_of_attempts, \n",
    "            color = 'red', alpha=0.5, \n",
    "        label='% of Total Shots Attempted from this Distance')\n",
    "plt.legend(loc='best')\n",
    "plt.title(\"Harden's Accuracy vs Distance from Basket, NBA '16-'17 Season\")\n",
    "plt.xlabel(\"Distance from Basket (Feet)\")\n",
    "plt.ylim(0,1)\n",
    "plt.show()"
   ]
  },
  {
   "cell_type": "markdown",
   "metadata": {},
   "source": [
    "### Observations\n",
    "\n",
    "As we can see, a significant portion of Harden's attempted shots occur at around 22 - 27 from the basket. In the NBA, the 3-point line is 23.75 feet from the hoop, and 22 feet from the hoop in the corners, so this is of course correlated with his 3-point attempts. About a fifth of his shots take place from behind the 3-point line, and around a tenth of them are directly up against the basket. \n",
    "\n",
    "We can see thusly that while Harden is more actively shooting behind the 3-point line, he achieves the most success when he gets as close to the basket as possible. The plot does show that he remains a formidable two-point shooter even when not directly against the basket, scoring at or above his season average (44%). \n",
    "\n",
    "\n",
    "Finally, we note that he has attempted a handful of grandiose shots from well behind the line and been successful, but these occasions happen very seldom.\n",
    "\n",
    "A potential follow-up question would be to look at how distance correlates with the amount of points or percentage of total points scored, but I won't explore that here."
   ]
  }
 ],
 "metadata": {
  "language_info": {
   "name": "python",
   "pygments_lexer": "ipython3"
  }
 },
 "nbformat": 4,
 "nbformat_minor": 2
}
