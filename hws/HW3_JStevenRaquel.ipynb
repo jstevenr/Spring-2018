{
 "cells": [
  {
   "cell_type": "markdown",
   "metadata": {},
   "source": [
    "# PSTAT 134\n",
    "## Assignment 3\n",
    "## Spring 2018\n",
    "## J Steven Raquel"
   ]
  },
  {
   "cell_type": "markdown",
   "metadata": {},
   "source": [
    "###  Problem 1\n",
    "\n"
   ]
  },
  {
   "cell_type": "code",
   "execution_count": null,
   "metadata": {},
   "outputs": [],
   "source": [
    "%matplotlib inline\n",
    "\n",
    "import pandas as pd\n",
    "import numpy as np\n",
    "import matplotlib.pyplot as plt\n",
    "import subprocess as sp\n",
    "import pickle\n",
    "import sklearn.decomposition as skld\n",
    "\n",
    "import helper_basketball as h\n",
    "import imp\n",
    "imp.reload(h);"
   ]
  },
  {
   "cell_type": "code",
   "execution_count": null,
   "metadata": {},
   "outputs": [],
   "source": [
    "allshots = pickle.load(open('allshots2016-17.pkl', 'rb'))\n",
    "X = pickle.load(open('allpatterns2016-17.pkl', 'rb'))\n",
    "\n",
    "# allmade = allshots.loc[allshots.SHOT_MADE_FLAG==1]\n",
    "allmade = allshots\n",
    "allmade.head()"
   ]
  },
  {
   "cell_type": "code",
   "execution_count": null,
   "metadata": {},
   "outputs": [],
   "source": [
    "## get all 2016-17 teams\n",
    "params = {'LeagueID':'00','Season': '2016-17'}\n",
    "teams = h.get_nba_data('commonTeamYears', params).set_index('TEAM_ID')\n",
    "allteams = teams.loc[teams.MAX_YEAR=='2017'].index.values\n",
    "\n",
    "\n",
    "## get all 2016-17 players\n",
    "params = {'LeagueID':'00', 'Season': '2016-17', 'IsOnlyCurrentSeason': '0'}\n",
    "players = h.get_nba_data('commonallplayers', params).set_index('PERSON_ID')\n",
    "allplyrs = players.loc[players.TEAM_ID.isin(allteams)].index.values"
   ]
  },
  {
   "cell_type": "code",
   "execution_count": null,
   "metadata": {},
   "outputs": [],
   "source": [
    "## players info\n",
    "player_ids = allmade.PlayerID.unique()\n",
    "num_players = player_ids.size\n",
    "\n",
    "## bin edge definitions in inches\n",
    "xedges = (np.linspace(start=-25, stop=25, num=151, dtype=np.float)) * 12\n",
    "yedges = (np.linspace(start= -4, stop=31, num=106, dtype=np.float)) * 12\n",
    "\n",
    "## number of bins is one less than number of edges\n",
    "nx = xedges.size - 1\n",
    "ny = yedges.size - 1\n",
    "\n",
    "## 2d histogram containers for binned counts and smoothed binned counts\n",
    "all_counts = {}\n",
    "all_smooth = {}\n",
    "\n",
    "## data matrix: players (row) by vectorized 2-d court locations (column)\n",
    "for i, one in enumerate(allmade.groupby('PlayerID')):\n",
    "    \n",
    "    ## what does this line do?\n",
    "    pid, pdf = one\n",
    "    \n",
    "    ## h.bin_shots: what is this function doing?\n",
    "    tmp1, xedges, yedges = h.bin_shots(pdf, bin_edges=(xedges, yedges), density=True, sigma=2)\n",
    "    tmp2, xedges, yedges = h.bin_shots(pdf, bin_edges=(xedges, yedges), density=False)\n",
    "    \n",
    "    ## vectorize and store into dictionary\n",
    "    all_smooth[pid] = tmp1.reshape(-1)\n",
    "    all_counts[pid] = tmp2.reshape(-1)"
   ]
  },
  {
   "cell_type": "markdown",
   "metadata": {},
   "source": [
    "## Problem 1\n",
    "\n"
   ]
  },
  {
   "cell_type": "code",
   "execution_count": null,
   "metadata": {},
   "outputs": [],
   "source": [
    "## Non-negative Matrix Factorization\n",
    "# X = np.stack(all_smooth.values()).T\n",
    "\n",
    "## what are the different options mean for NMF()?\n",
    "# 10 components\n",
    "model = skld.NMF(n_components=10, init='nndsvda', max_iter=500, random_state=0)\n",
    "W = model.fit_transform(X)\n",
    "H = model.components_\n",
    "\n",
    "# visulizing the bases with\n",
    "fig, ax = plt.subplots(nrows = 5, ncols = 2, figsize=(20,40))\n",
    "\n",
    "for i, axi in enumerate(ax.flatten()):\n",
    "    h.plot_shotchart(W[:,i], xedges, yedges, ax=axi)\n",
    "    axi.set_title('NMF component ' + str(i))"
   ]
  },
  {
   "cell_type": "code",
   "execution_count": null,
   "metadata": {},
   "outputs": [],
   "source": [
    "## what are the different options mean for NMF()?\n",
    "# 5 components\n",
    "model = skld.NMF(n_components=5, init='nndsvda', max_iter=500, random_state=0)\n",
    "W = model.fit_transform(X)\n",
    "H = model.components_\n",
    "\n",
    "# visualizing the bases\n",
    "fig, ax = plt.subplots(nrows = 5, ncols = 1, figsize=(20,40))\n",
    "\n",
    "for i, axi in enumerate(ax.flatten()):\n",
    "    h.plot_shotchart(W[:,i], xedges, yedges, ax=axi)\n",
    "    axi.set_title('NMF component ' + str(i))\n",
    "    \n",
    "plt.tight_layout()"
   ]
  },
  {
   "cell_type": "code",
   "execution_count": null,
   "metadata": {},
   "outputs": [],
   "source": [
    "## what are the different options mean for NMF()?\n",
    "# 12 components\n",
    "model = skld.NMF(n_components=12, init='nndsvda', max_iter=500, random_state=0)\n",
    "W = model.fit_transform(X)\n",
    "H = model.components_\n",
    "\n",
    "# visualizing the bases \n",
    "fig, ax = plt.subplots(nrows = 6, ncols = 2, figsize=(20,40))\n",
    "\n",
    "for i, axi in enumerate(ax.flatten()):\n",
    "    h.plot_shotchart(W[:,i], xedges, yedges, ax=axi)\n",
    "    axi.set_title('NMF component ' + str(i))\n",
    "    \n",
    "plt.tight_layout()"
   ]
  },
  {
   "cell_type": "markdown",
   "metadata": {},
   "source": [
    "It appears that the value of $r$ that is too big is $12$, since some of the bases appear to be duplicated, namely the ones whose 'hot zones' are very close to the hoop. They all look very alike. Conversely there are shooting styles that are not represented when using only $5$ bases, whereas with $10$ bases it appears that all are represented without duplication. \n",
    "\n",
    "## Problem 2\n",
    "\n",
    "It is of interest to look at the pairwise correlation between shooting patterns of different players. "
   ]
  },
  {
   "cell_type": "code",
   "execution_count": null,
   "metadata": {},
   "outputs": [],
   "source": [
    "X = np.stack(all_smooth.values()).T\n",
    "\n",
    "## what are the different options mean for NMF()?\n",
    "# 10 components\n",
    "model = skld.NMF(n_components=10, init='nndsvda', max_iter=500, random_state=0)\n",
    "W = model.fit_transform(X)\n",
    "H = model.components_"
   ]
  },
  {
   "cell_type": "code",
   "execution_count": null,
   "metadata": {},
   "outputs": [],
   "source": [
    "p, n = X.shape\n",
    "\n",
    "print('Number of bins (p)   :', p)\n",
    "print('Number of players (n):', n)\n",
    "\n",
    "p_w, r = W.shape\n",
    "\n",
    "print('Number of bins (p) :', p_w)\n",
    "print('Number of bases (r):', r)\n",
    "\n",
    "r_h, n_h = H.shape\n",
    "\n",
    "print('Number of bases (r)  :', r_h)\n",
    "print('Number of players (n):', n_h)"
   ]
  },
  {
   "cell_type": "code",
   "execution_count": null,
   "metadata": {},
   "outputs": [],
   "source": [
    "# Getting all 362 players' shooting styles\n",
    "ids = players.loc[player_ids].dropna()\n",
    "Hd = pd.DataFrame(H, columns=all_smooth.keys())\n",
    "coeff = Hd.loc[:,ids.index.values]\n",
    "coeff.columns = ids.DISPLAY_FIRST_LAST\n",
    "\n",
    "# scaling coefficients to sum to 1\n",
    "coeff.T.sum(1)\n",
    "coeff /= coeff.sum(0)\n",
    "# transposing so names are in the rows\n",
    "R = Hd.corr()\n",
    "R.shape"
   ]
  },
  {
   "cell_type": "markdown",
   "metadata": {},
   "source": [
    "We see thusly that the shape of the correlation matrix $R$ is $(362,362)$, since we are comparing each of the 362 players to one another.\n",
    "\n",
    "Now let's visualize the matrix $R$ with the `heatmap` function from `seaborn`."
   ]
  },
  {
   "cell_type": "code",
   "execution_count": null,
   "metadata": {},
   "outputs": [],
   "source": [
    "sb.heatmap(R)"
   ]
  },
  {
   "cell_type": "markdown",
   "metadata": {},
   "source": [
    "From the looks of it, the two players that have the highest similarities are those represented by 1 and 2, who are Stephen Curry and Marc Gasol, respectively."
   ]
  },
  {
   "cell_type": "code",
   "execution_count": null,
   "metadata": {},
   "outputs": [],
   "source": [
    "## create figure and axes\n",
    "fig, ax = plt.subplots(2, 2, figsize=(20,40))\n",
    "\n",
    "# 201939 = Curry, 201188 = Gasol\n",
    "for axi, plyri in enumerate([201939,201188]):\n",
    "    \n",
    "    h.plot_shotchart(all_counts[plyri], xedges, yedges, ax=ax[axi,0])\n",
    "    h.plot_shotchart(all_smooth[plyri], xedges, yedges, ax=ax[axi,1])\n",
    "    \n",
    "    ax[axi,0].set_title(players.DISPLAY_FIRST_LAST[plyri]+', '+str(all_counts[plyri].sum().astype('int')))\n",
    "    ax[axi,1].set_title(players.DISPLAY_FIRST_LAST[plyri]+', '+str(all_counts[plyri].sum().astype('int')))\n",
    "    \n",
    "plt.tight_layout()"
   ]
  },
  {
   "cell_type": "markdown",
   "metadata": {},
   "source": [
    "On the other hand it seems that the most dissimilar players are Stephen Curry and Brook Lopez."
   ]
  },
  {
   "cell_type": "code",
   "execution_count": null,
   "metadata": {},
   "outputs": [],
   "source": [
    "## create figure and axes\n",
    "fig, ax = plt.subplots(2, 2, figsize=(20,40))\n",
    "\n",
    "# 201939 = Curry, 201572 = Gasol\n",
    "for axi, plyri in enumerate([201939,201572]):\n",
    "    \n",
    "    h.plot_shotchart(all_counts[plyri], xedges, yedges, ax=ax[axi,0])\n",
    "    h.plot_shotchart(all_smooth[plyri], xedges, yedges, ax=ax[axi,1])\n",
    "    \n",
    "    ax[axi,0].set_title(players.DISPLAY_FIRST_LAST[plyri]+', '+str(all_counts[plyri].sum().astype('int')))\n",
    "    ax[axi,1].set_title(players.DISPLAY_FIRST_LAST[plyri]+', '+str(all_counts[plyri].sum().astype('int')))\n",
    "    \n",
    "plt.tight_layout()"
   ]
  }
 ],
 "metadata": {
  "language_info": {
   "name": "python",
   "pygments_lexer": "ipython3"
  }
 },
 "nbformat": 4,
 "nbformat_minor": 2
}
