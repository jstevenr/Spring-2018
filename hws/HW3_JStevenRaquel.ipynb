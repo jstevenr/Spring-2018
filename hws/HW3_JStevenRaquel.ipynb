{
 "cells": [
  {
   "cell_type": "markdown",
   "metadata": {},
   "source": [
    "# PSTAT 134\n",
    "## Assignment 3\n",
    "## Spring 2018\n",
    "## J Steven Raquel"
   ]
  },
  {
   "cell_type": "markdown",
   "metadata": {},
   "source": [
    "###  Problem 1\n",
    "\n"
   ]
  },
  {
   "cell_type": "code",
   "execution_count": null,
   "metadata": {},
   "outputs": [],
   "source": [
    "%matplotlib inline\n",
    "\n",
    "import pandas as pd\n",
    "import numpy as np\n",
    "import matplotlib.pyplot as plt\n",
    "import subprocess as sp\n",
    "import pickle\n",
    "import sklearn.decomposition as skld\n",
    "\n",
    "import helper_basketball as h\n",
    "import imp\n",
    "imp.reload(h);"
   ]
  },
  {
   "cell_type": "code",
   "execution_count": null,
   "metadata": {},
   "outputs": [],
   "source": [
    "allshots = pickle.load(open('allshots2016-17.pkl', 'rb'))\n",
    "X = pickle.load(open('allpatterns2016-17.pkl', 'rb'))\n",
    "\n",
    "# allmade = allshots.loc[allshots.SHOT_MADE_FLAG==1]\n",
    "allmade = allshots\n",
    "allmade.head()"
   ]
  },
  {
   "cell_type": "code",
   "execution_count": null,
   "metadata": {},
   "outputs": [],
   "source": [
    "## players info\n",
    "player_ids = allmade.PlayerID.unique()\n",
    "num_players = player_ids.size\n",
    "\n",
    "## bin edge definitions in inches\n",
    "xedges = (np.linspace(start=-25, stop=25, num=151, dtype=np.float)) * 12\n",
    "yedges = (np.linspace(start= -4, stop=31, num=106, dtype=np.float)) * 12\n",
    "\n",
    "## number of bins is one less than number of edges\n",
    "nx = xedges.size - 1\n",
    "ny = yedges.size - 1\n",
    "\n",
    "## 2d histogram containers for binned counts and smoothed binned counts\n",
    "all_counts = {}\n",
    "all_smooth = {}\n",
    "\n",
    "## data matrix: players (row) by vectorized 2-d court locations (column)\n",
    "for i, one in enumerate(allmade.groupby('PlayerID')):\n",
    "    \n",
    "    ## what does this line do?\n",
    "    pid, pdf = one\n",
    "    \n",
    "    ## h.bin_shots: what is this function doing?\n",
    "    tmp1, xedges, yedges = h.bin_shots(pdf, bin_edges=(xedges, yedges), density=True, sigma=2)\n",
    "    tmp2, xedges, yedges = h.bin_shots(pdf, bin_edges=(xedges, yedges), density=False)\n",
    "    \n",
    "    ## vectorize and store into dictionary\n",
    "    all_smooth[pid] = tmp1.reshape(-1)\n",
    "    all_counts[pid] = tmp2.reshape(-1)"
   ]
  },
  {
   "cell_type": "code",
   "execution_count": null,
   "metadata": {},
   "outputs": [],
   "source": [
    "## Non-negative Matrix Factorization\n",
    "# X = np.stack(all_smooth.values()).T\n",
    "\n",
    "## what are the different options mean for NMF()?\n",
    "model = skld.NMF(n_components=10, init='nndsvda', max_iter=500, random_state=0)\n",
    "W = model.fit_transform(X)\n",
    "H = model.components_\n",
    "\n",
    "# visulizing the bases with 10 components\n",
    "fig, ax = plt.subplots(5, 2, figsize=(20,40))\n",
    "\n",
    "for i, axi in enumerate(ax.flatten()):\n",
    "    h.plot_shotchart(W[:,i], xedges, yedges, ax=axi)\n",
    "    axi.set_title('NMF component ' + str(i))"
   ]
  },
  {
   "cell_type": "code",
   "execution_count": null,
   "metadata": {},
   "outputs": [],
   "source": [
    "## what are the different options mean for NMF()?\n",
    "model = skld.NMF(n_components=5, init='nndsvda', max_iter=500, random_state=0)\n",
    "W = model.fit_transform(X)\n",
    "H = model.components_\n",
    "\n",
    "# visualizing the bases with 6 components\n",
    "fig, ax = plt.subplots(5, 2, figsize=(20,40))\n",
    "\n",
    "for i, axi in enumerate(ax.flatten()):\n",
    "    h.plot_shotchart(W[:,i], xedges, yedges, ax=axi)\n",
    "    axi.set_title('NMF component ' + str(i))"
   ]
  },
  {
   "cell_type": "code",
   "execution_count": null,
   "metadata": {},
   "outputs": [],
   "source": [
    "## what are the different options mean for NMF()?\n",
    "model = skld.NMF(n_components=15, init='nndsvda', max_iter=500, random_state=0)\n",
    "W = model.fit_transform(X)\n",
    "H = model.components_\n",
    "\n",
    "# visualizing the bases with 15 components\n",
    "fig, ax = plt.subplots(5, 3, figsize=(20,40))\n",
    "\n",
    "for i, axi in enumerate(ax.flatten()):\n",
    "    h.plot_shotchart(W[:,i], xedges, yedges, ax=axi)\n",
    "    axi.set_title('NMF component ' + str(i))"
   ]
  }
 ],
 "metadata": {
  "language_info": {
   "name": "python",
   "pygments_lexer": "ipython3"
  }
 },
 "nbformat": 4,
 "nbformat_minor": 2
}
