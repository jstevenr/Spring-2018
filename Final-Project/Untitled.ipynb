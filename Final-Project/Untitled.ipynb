{
 "cells": [
  {
   "cell_type": "code",
   "execution_count": null,
   "metadata": {},
   "outputs": [],
   "source": [
    "import csv\n",
    "import pandas as pd\n",
    "import numpy as np\n",
    "import sklearn.decomposition as skld\n",
    "import matplotlib.pyplot as plt\n",
    "import seaborn as sns\n",
    "import sklearn\n",
    "import helper_basketball as h\n",
    "import imp"
   ]
  },
  {
   "cell_type": "markdown",
   "metadata": {},
   "source": [
    "## Machine Learning with Decision Trees\n",
    "\n",
    "We have five labels in this dataset that we want to predict, which correspond to the positions in basketball:\n",
    "\n",
    "Point Guard (PG), Shooting Guard (G), Small Forward (SF), Power Forward (PF), and Center (C).\n",
    "\n",
    "We want to take this dataset of the players from the 2016-17 season, split it into a training and test set, and see if the model we train can accurately predict a player's position given their stats in the game. "
   ]
  }
 ],
 "metadata": {
  "language_info": {
   "name": "python",
   "pygments_lexer": "ipython3"
  }
 },
 "nbformat": 4,
 "nbformat_minor": 2
}
