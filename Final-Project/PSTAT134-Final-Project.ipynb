{
 "cells": [
  {
   "cell_type": "markdown",
   "metadata": {},
   "source": [
    "# PSTAT134 Final Project\n",
    "## Predicting NBA Player Positions"
   ]
  },
  {
   "cell_type": "code",
   "execution_count": null,
   "metadata": {},
   "outputs": [],
   "source": [
    "import pandas as pd\n",
    "import numpy as np\n",
    "import sklearn.decomposition as skld\n",
    "import matplotlib.pyplot as plt\n",
    "import seaborn as sns\n",
    "import sklearn\n",
    "import helper_basketball as h\n",
    "import imp\n",
    "imp.reload(h);"
   ]
  },
  {
   "cell_type": "code",
   "execution_count": null,
   "metadata": {},
   "outputs": [],
   "source": [
    "def get_nba_data(endpt, params, return_url=False):\n",
    "\n",
    "    ## endpt: https://github.com/seemethere/nba_py/wiki/stats.nba.com-Endpoint-Documentation\n",
    "    ## params: dictionary of parameters: i.e., {'LeagueID':'00'}\n",
    "    \n",
    "    from pandas import DataFrame \n",
    "    from urllib.parse import urlencode\n",
    "    import json\n",
    "    \n",
    "    useragent = \"\\\"Mozilla/5.0 (Macintosh; Intel Mac OS X 10_11_2) AppleWebKit/601.3.9 (KHTML, like Gecko) Version/9.0.2 Safari/601.3.9\\\"\"\n",
    "    dataurl = \"\\\"\" + \"http://stats.nba.com/stats/\" + endpt + \"?\" + urlencode(params) + \"\\\"\"\n",
    "    \n",
    "    # for debugging: just return the url\n",
    "    if return_url:\n",
    "        return(dataurl)\n",
    "    \n",
    "    jsonstr = !wget -q -O - --user-agent={useragent} {dataurl}\n",
    "    \n",
    "    data = json.loads(jsonstr[0])\n",
    "    \n",
    "    h = data['resultSets'][0]['headers']\n",
    "    d = data['resultSets'][0]['rowSet']\n",
    "    \n",
    "    return(DataFrame(d, columns=h))"
   ]
  },
  {
   "cell_type": "code",
   "execution_count": null,
   "metadata": {},
   "outputs": [],
   "source": [
    "def get_nba_dash(params, return_url=False):\n",
    "    \n",
    "    from pandas import DataFrame \n",
    "    from urllib.parse import urlencode\n",
    "    import json\n",
    "    \n",
    "    useragent = \"\\\"Mozilla/5.0 (Macintosh; Intel Mac OS X 10_11_2) AppleWebKit/601.3.9 (KHTML, like Gecko) Version/9.0.2 Safari/601.3.9\\\"\"\n",
    "    dataurl = \"\\\"\" + \"http://stats.nba.com/stats/leaguedashplayerstats\" + \"?\" + urlencode(params) + \"\\\"\"\n",
    "    \n",
    "    # for debugging: just return the url\n",
    "    if return_url:\n",
    "        return(dataurl)\n",
    "    \n",
    "    jsonstr = !wget -q -O - --user-agent={useragent} {dataurl}\n",
    "    \n",
    "    data = json.loads(jsonstr[0])\n",
    "    \n",
    "    h = data['resultSets'][0]['headers']\n",
    "    d = data['resultSets'][0]['rowSet']\n",
    "    \n",
    "    return(DataFrame(d, columns=h))"
   ]
  },
  {
   "cell_type": "code",
   "execution_count": null,
   "metadata": {},
   "outputs": [],
   "source": [
    "#get all players\n",
    "params = {'LeagueID':'00', \n",
    "          'Season': '2016-17', \n",
    "          'IsOnlyCurrentSeason': '0'}\n",
    "players = get_nba_data('commonallplayers', params)\n",
    "players = players[players.TO_YEAR == '2017']\n",
    "players.head()"
   ]
  },
  {
   "cell_type": "code",
   "execution_count": null,
   "metadata": {},
   "outputs": [],
   "source": [
    "players.DISPLAY_FIRST_LAST[players.PERSON_ID == 1627826]"
   ]
  },
  {
   "cell_type": "code",
   "execution_count": null,
   "metadata": {},
   "outputs": [],
   "source": [
    "#get specific players game stats\n",
    "params = {'PlayerID':'1627826',\n",
    "          'Season':'2016-17',\n",
    "          'SeasonType':'Regular Season'}\n",
    "\n",
    "gamedata = get_nba_data('playergamelog', params)\n",
    "gamedata.head()"
   ]
  },
  {
   "cell_type": "code",
   "execution_count": null,
   "metadata": {},
   "outputs": [],
   "source": [
    "agg_DF = pd.DataFrame()"
   ]
  },
  {
   "cell_type": "code",
   "execution_count": null,
   "metadata": {},
   "outputs": [],
   "source": [
    "#take pieces from three of the endpoints to compile a dataset\n",
    "#variables: pts, oreb, dreb, reb, ast, blocks, steals, turnovers, position, height, offensive rating, defensive rating,\n",
    "#assist to TO ratio, assist percent\n",
    "def get_play_avg(playlist):\n",
    "    for x in range(0, len(players.PERSON_ID)):\n",
    "        i = 0\n",
    "        params = {'PlayerID':players.PERSON_ID.iloc[x],\n",
    "                  'Season':'2016-17',\n",
    "                  'SeasonType':'Regular Season'}\n",
    "        gamedata = get_nba_data('playergamelog', params)\n",
    "        \n",
    "        player_params = {'PlayerID':playlist.iloc[x]}\n",
    "        playerdata = get_nba_data('commonplayerinfo', player_params)\n",
    "        \n",
    "        dash_params = {\"MeasureType\":\"Advanced\",\n",
    "                       \"PerMode\":\"PerGame\",\n",
    "                       \"PlusMinus\":\"N\",\n",
    "                       \"PaceAdjust\":\"N\",\n",
    "                       \"Rank\":\"N\",\n",
    "                       \"LeagueID\":\"00\",\n",
    "                       \"Season\":\"2016-17\",\n",
    "                       \"SeasonType\":\"Playoffs\",\n",
    "                       \"PORound\":'0',\n",
    "                       \"Outcome\":'',\n",
    "                       \"Location\":'',\n",
    "                       \"Month\":'0',\n",
    "                       \"SeasonSegment\":'',\n",
    "                       \"DateFrom\":'',\n",
    "                       \"DateTo\":'',\n",
    "                       \"OpponentTeamID\":'0',\n",
    "                       \"VsConference\":'',\n",
    "                       \"VsDivision\":'',\n",
    "                       \"TeamID\":'0',\n",
    "                       \"Conference\":'',\n",
    "                       \"Division\":'',\n",
    "                       \"GameSegment\":'',\n",
    "                       \"Period\":'0',\n",
    "                       \"ShotClockRange\":'',\n",
    "                       \"LastNGames\":'0',\n",
    "                       \"GameScope\":'',\n",
    "                       \"PlayerExperience\":'',\n",
    "                       \"PlayerPosition\":'',\n",
    "                       \"StarterBench\":'',\n",
    "                       \"DraftYear\":'',\n",
    "                       \"DraftPick\":'',\n",
    "                       \"College\":'',\n",
    "                       \"Country\":'',\n",
    "                       \"Height\":'',\n",
    "                       \"Weight\":''}\n",
    "        ratingsdata = get_nba_dash(dash_params)\n",
    "            \n",
    "        # agg_DF.loc[x, i + 1] = players.DISPLAY_FIRST_LAST[players.PERSON_ID == players.PERSON_ID.iloc[x]] #needs to be corrected for the datatype    \n",
    "        \n",
    "        # agg_DF.loc[x, i + 2] = [playerdata.POSITION]\n",
    "        # agg_DF.loc[x, i + 3] = [playerdata.HEIGHT]\n",
    "        # agg_DF.loc[x, i + 4] = ratingsdata.OFF_RATING[ratingsdata.PLAYER_ID == playlist.iloc[x]]\n",
    "        # agg_DF.loc[x, i + 5] = ratingsdata.DEF_RATING[ratingsdata.PLAYER_ID == playlist.iloc[x]]\n",
    "        # agg_DF.loc[x, i + 11] = ratingsdata.AST_PCT[ratingsdata.PLAYER_ID == playlist.iloc[x]]\n",
    "        # agg_DF.loc[x, i + 12] = ratingsdata.AST_RATIO[ratingsdata.PLAYER_ID == playlist.iloc[x]]\n",
    "        \n",
    "        agg_DF.loc[x, i] = players.PERSON_ID.iloc[x]\n",
    "        agg_DF.loc[x, i + 1] = gamedata.PTS.mean()\n",
    "        agg_DF.loc[x, i + 2] = gamedata.OREB.mean()\n",
    "        agg_DF.loc[x, i + 3] = gamedata.DREB.mean()\n",
    "        agg_DF.loc[x, i + 4] = gamedata.REB.mean()\n",
    "        agg_DF.loc[x, i + 5] = gamedata.AST.mean()\n",
    "        agg_DF.loc[x, i + 6] = gamedata.STL.mean()\n",
    "        agg_DF.loc[x, i + 7] = gamedata.BLK.mean()\n",
    "        agg_DF.loc[x, i + 8] = gamedata.TOV.mean()\n",
    "\n",
    "    return(agg_DF) #should be the fully compiled dataset that you can perform analysis on"
   ]
  },
  {
   "cell_type": "code",
   "execution_count": null,
   "metadata": {},
   "outputs": [],
   "source": [
    "get_play_avg(players.PERSON_ID) \n",
    "#run time is kind of long due to for loop, can adjust if you want. look at agg_DF below, it worked before and should look like that"
   ]
  },
  {
   "cell_type": "code",
   "execution_count": null,
   "metadata": {},
   "outputs": [],
   "source": [
    "hello = pd.DataFrame(columns = ['play', 'reb'])\n",
    "hello.loc[0, 0] = players.PERSON_ID.iloc[0]\n",
    "hello.loc[1, 0] = [players.DISPLAY_FIRST_LAST[players.PERSON_ID == 2544]]\n",
    "\n",
    "hello"
   ]
  },
  {
   "cell_type": "code",
   "execution_count": null,
   "metadata": {},
   "outputs": [],
   "source": [
    "agg_DF"
   ]
  },
  {
   "cell_type": "code",
   "execution_count": null,
   "metadata": {},
   "outputs": [],
   "source": [
    "#get specific players common info\n",
    "player_params = {'PlayerID':'2544'}\n",
    "\n",
    "playerdata = get_nba_data('commonplayerinfo', player_params)\n",
    "playerdata.head()"
   ]
  },
  {
   "cell_type": "code",
   "execution_count": null,
   "metadata": {},
   "outputs": [],
   "source": [
    "#get specific ratings per player\n",
    "dash_params = {\"MeasureType\":\"Advanced\",\n",
    "               \"PerMode\":\"PerGame\",\n",
    "               \"PlusMinus\":\"N\",\n",
    "               \"PaceAdjust\":\"N\",\n",
    "               \"Rank\":\"N\",\n",
    "               \"LeagueID\":\"00\",\n",
    "               \"Season\":\"2016-17\",\n",
    "               \"SeasonType\":\"Playoffs\",\n",
    "               \"PORound\":'0',\n",
    "               \"Outcome\":'',\n",
    "               \"Location\":'',\n",
    "               \"Month\":'0',\n",
    "               \"SeasonSegment\":'',\n",
    "               \"DateFrom\":'',\n",
    "               \"DateTo\":'',\n",
    "               \"OpponentTeamID\":'0',\n",
    "               \"VsConference\":'',\n",
    "               \"VsDivision\":'',\n",
    "               \"TeamID\":'0',\n",
    "               \"Conference\":'',\n",
    "               \"Division\":'',\n",
    "               \"GameSegment\":'',\n",
    "               \"Period\":'0',\n",
    "               \"ShotClockRange\":'',\n",
    "               \"LastNGames\":'0',\n",
    "               \"GameScope\":'',\n",
    "               \"PlayerExperience\":'',\n",
    "               \"PlayerPosition\":'',\n",
    "               \"StarterBench\":'',\n",
    "               \"DraftYear\":'',\n",
    "               \"DraftPick\":'',\n",
    "               \"College\":'',\n",
    "               \"Country\":'',\n",
    "               \"Height\":'',\n",
    "               \"Weight\":''}\n",
    "ratingsdata = get_nba_dash(dash_params)\n",
    "ratingsdata.head()"
   ]
  },
  {
   "cell_type": "code",
   "execution_count": null,
   "metadata": {},
   "outputs": [],
   "source": [
    "ratingsdata.OFF_RATING[ratingsdata.PLAYER_ID == players.PERSON_ID.iloc[0]]"
   ]
  },
  {
   "cell_type": "code",
   "execution_count": null,
   "metadata": {},
   "outputs": [],
   "source": [
    "list(ratingsdata)"
   ]
  },
  {
   "cell_type": "code",
   "execution_count": null,
   "metadata": {},
   "outputs": [],
   "source": []
  }
 ],
 "metadata": {
  "language_info": {
   "name": "python",
   "pygments_lexer": "ipython3"
  }
 },
 "nbformat": 4,
 "nbformat_minor": 2
}
