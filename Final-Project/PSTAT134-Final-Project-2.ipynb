{
 "cells": [
  {
   "cell_type": "markdown",
   "metadata": {},
   "source": [
    "# PSTAT134 Final Project\n",
    "## Predicting NBA Player Positions"
   ]
  },
  {
   "cell_type": "code",
   "execution_count": null,
   "metadata": {},
   "outputs": [],
   "source": [
    "import pandas as pd\n",
    "import numpy as np\n",
    "import csv\n",
    "import sklearn.decomposition as skld\n",
    "\n",
    "import matplotlib.pyplot as plt\n",
    "import seaborn as sns\n",
    "\n",
    "import helper_basketball as h\n",
    "import imp\n",
    "imp.reload(h);"
   ]
  },
  {
   "cell_type": "code",
   "execution_count": null,
   "metadata": {},
   "outputs": [],
   "source": [
    "#import data\n",
    "agg_DF = pd.read_csv('NBAPlayerData.csv')\n",
    "\n",
    "#rename one column\n",
    "agg_DF.rename(columns = {'PS/G': 'PTS'}, inplace = True)\n",
    "agg_DF.rename(columns = {'FG%': 'FGP'}, inplace = True)\n",
    "agg_DF.rename(columns = {'3P%': '3PP'}, inplace = True)\n",
    "agg_DF.rename(columns = {'2P%': '2PP'}, inplace = True)\n",
    "agg_DF.rename(columns = {'eFG%': 'eFGP'}, inplace = True)\n",
    "agg_DF.rename(columns = {'FT%': 'FTP'}, inplace = True)\n",
    "\n",
    "agg_DF.drop('\\ufeffRk', axis = 1, inplace = True)\n",
    "\n",
    "agg_DF"
   ]
  },
  {
   "cell_type": "code",
   "execution_count": null,
   "metadata": {},
   "outputs": [],
   "source": [
    "agg_DF.shape"
   ]
  },
  {
   "cell_type": "code",
   "execution_count": null,
   "metadata": {},
   "outputs": [],
   "source": [
    "agg_DF.isnull()"
   ]
  },
  {
   "cell_type": "code",
   "execution_count": null,
   "metadata": {},
   "outputs": [],
   "source": [
    "#Check for missing values\n",
    "agg_DF.isnull().sum()"
   ]
  },
  {
   "cell_type": "code",
   "execution_count": null,
   "metadata": {},
   "outputs": [],
   "source": [
    "agg_DF = agg_DF.fillna('0')"
   ]
  },
  {
   "cell_type": "code",
   "execution_count": null,
   "metadata": {},
   "outputs": [],
   "source": [
    "agg_DF.isnull().sum()"
   ]
  },
  {
   "cell_type": "code",
   "execution_count": null,
   "metadata": {},
   "outputs": [],
   "source": [
    "agg_DF['Pos'].value_counts()\n",
    "sns.countplot(x = 'Pos', data = agg_DF, palette = 'hls')"
   ]
  },
  {
   "cell_type": "code",
   "execution_count": null,
   "metadata": {},
   "outputs": [],
   "source": [
    "agg_DF.groupby('Pos').mean()"
   ]
  },
  {
   "cell_type": "code",
   "execution_count": null,
   "metadata": {},
   "outputs": [],
   "source": [
    "%matplotlib inline\n",
    "pd.crosstab(agg_DF.Tm, agg_DF.Pos).plot(kind='bar')\n",
    "plt.title('Spread of Positions Per Team')"
   ]
  },
  {
   "cell_type": "code",
   "execution_count": null,
   "metadata": {},
   "outputs": [],
   "source": [
    "agg_DF.columns.values"
   ]
  },
  {
   "cell_type": "code",
   "execution_count": null,
   "metadata": {},
   "outputs": [],
   "source": [
    "agg_DF.dtypes"
   ]
  },
  {
   "cell_type": "code",
   "execution_count": null,
   "metadata": {},
   "outputs": [],
   "source": [
    "agg_DF['FGP'] = pd.to_numeric(agg_DF['FGP'])\n",
    "agg_DF['3PP'] = pd.to_numeric(agg_DF['3PP'])\n",
    "agg_DF['2PP'] = pd.to_numeric(agg_DF['2PP'])\n",
    "agg_DF['eFGP'] = pd.to_numeric(agg_DF['eFGP'])\n",
    "agg_DF['FTP'] = pd.to_numeric(agg_DF['FTP'])\n",
    "\n",
    "cat_vars = ['Player', 'Tm']\n",
    "for var in cat_vars:\n",
    "    cat_list='var' + '_' + var\n",
    "    cat_list = pd.get_dummies(agg_DF[var], prefix = var)\n",
    "    agg_DF1 = agg_DF.join(cat_list)\n",
    "    agg_DF = agg_DF1\n",
    "    \n",
    "cat_vars = ['Player', 'Tm']\n",
    "agg_vars = agg_DF.columns.values.tolist()\n",
    "to_keep = [i for i in agg_vars if i not in cat_vars]"
   ]
  },
  {
   "cell_type": "code",
   "execution_count": null,
   "metadata": {},
   "outputs": [],
   "source": [
    "agg_DF.dtypes"
   ]
  },
  {
   "cell_type": "code",
   "execution_count": null,
   "metadata": {},
   "outputs": [],
   "source": [
    "agg_DF_final = agg_DF[to_keep]\n",
    "agg_DF_final.columns.values"
   ]
  },
  {
   "cell_type": "code",
   "execution_count": null,
   "metadata": {},
   "outputs": [],
   "source": [
    "agg_DF_vars = agg_DF_final.columns.values.tolist()\n",
    "response = ['Pos']\n",
    "response\n",
    "ind_var = [i for i in agg_DF_vars if i not in response]\n",
    "ind_var"
   ]
  },
  {
   "cell_type": "code",
   "execution_count": null,
   "metadata": {},
   "outputs": [],
   "source": [
    "agg_DF_final"
   ]
  },
  {
   "cell_type": "markdown",
   "metadata": {},
   "source": [
    "## OneHotEncoder"
   ]
  },
  {
   "cell_type": "code",
   "execution_count": null,
   "metadata": {},
   "outputs": [],
   "source": [
    "#from sklearn.preprocessing import OneHotEncoder"
   ]
  },
  {
   "cell_type": "code",
   "execution_count": null,
   "metadata": {},
   "outputs": [],
   "source": [
    "#enc = OneHotEncoder()"
   ]
  },
  {
   "cell_type": "code",
   "execution_count": null,
   "metadata": {},
   "outputs": [],
   "source": [
    "#enc.fit(agg_DF[, 'Tm'])"
   ]
  },
  {
   "cell_type": "markdown",
   "metadata": {},
   "source": [
    "## Logistic Regression"
   ]
  },
  {
   "cell_type": "code",
   "execution_count": null,
   "metadata": {},
   "outputs": [],
   "source": [
    "from sklearn import datasets\n",
    "from sklearn.feature_selection import RFE\n",
    "from sklearn.linear_model import LogisticRegression\n",
    "from sklearn import model_selection"
   ]
  },
  {
   "cell_type": "code",
   "execution_count": null,
   "metadata": {},
   "outputs": [],
   "source": [
    "logreg = LogisticRegression()\n",
    "rfe = RFE(logreg, 12)\n",
    "rfe = rfe.fit(agg_DF_final[ind_var], agg_DF_final[response])\n",
    "print(rfe.support_)\n",
    "print(rfe.ranking_)"
   ]
  },
  {
   "cell_type": "code",
   "execution_count": null,
   "metadata": {},
   "outputs": [],
   "source": [
    "from sklearn.model_selection import train_test_split"
   ]
  },
  {
   "cell_type": "code",
   "execution_count": null,
   "metadata": {},
   "outputs": [],
   "source": [
    "X_train, X_test, Y_train, Y_test = train_test_split(ind_var, response, \n",
    "                                                    test_size = 0.2, random_state = 0)"
   ]
  },
  {
   "cell_type": "code",
   "execution_count": null,
   "metadata": {},
   "outputs": [],
   "source": [
    "for var in ind_var:\n",
    "    agg_DF_final[var].reshape((664,1))"
   ]
  },
  {
   "cell_type": "code",
   "execution_count": null,
   "metadata": {},
   "outputs": [],
   "source": [
    "agg_DF_final['Age']."
   ]
  },
  {
   "cell_type": "code",
   "execution_count": null,
   "metadata": {},
   "outputs": [],
   "source": [
    "agg_DF_final[response].shape"
   ]
  },
  {
   "cell_type": "code",
   "execution_count": null,
   "metadata": {},
   "outputs": [],
   "source": [
    "agg_DF_final[response].shape"
   ]
  },
  {
   "cell_type": "code",
   "execution_count": null,
   "metadata": {},
   "outputs": [],
   "source": [
    "agg_DF_final.shape"
   ]
  },
  {
   "cell_type": "code",
   "execution_count": null,
   "metadata": {},
   "outputs": [],
   "source": [
    "agg_DF_final.isnull().sum()"
   ]
  },
  {
   "cell_type": "code",
   "execution_count": null,
   "metadata": {},
   "outputs": [],
   "source": [
    "agg_DF_final[ind_var]"
   ]
  },
  {
   "cell_type": "code",
   "execution_count": null,
   "metadata": {},
   "outputs": [],
   "source": []
  },
  {
   "cell_type": "code",
   "execution_count": null,
   "metadata": {},
   "outputs": [],
   "source": []
  },
  {
   "cell_type": "code",
   "execution_count": null,
   "metadata": {},
   "outputs": [],
   "source": []
  },
  {
   "cell_type": "code",
   "execution_count": null,
   "metadata": {},
   "outputs": [],
   "source": [
    "def get_nba_data(endpt, params, return_url=False):\n",
    "\n",
    "    ## endpt: https://github.com/seemethere/nba_py/wiki/stats.nba.com-Endpoint-Documentation\n",
    "    ## params: dictionary of parameters: i.e., {'LeagueID':'00'}\n",
    "    \n",
    "    from pandas import DataFrame \n",
    "    from urllib.parse import urlencode\n",
    "    import json\n",
    "    \n",
    "    useragent = \"\\\"Mozilla/5.0 (Macintosh; Intel Mac OS X 10_11_2) AppleWebKit/601.3.9 (KHTML, like Gecko) Version/9.0.2 Safari/601.3.9\\\"\"\n",
    "    dataurl = \"\\\"\" + \"http://stats.nba.com/stats/\" + endpt + \"?\" + urlencode(params) + \"\\\"\"\n",
    "    \n",
    "    # for debugging: just return the url\n",
    "    if return_url:\n",
    "        return(dataurl)\n",
    "    \n",
    "    jsonstr = !wget -q -O - --user-agent={useragent} {dataurl}\n",
    "    \n",
    "    data = json.loads(jsonstr[0])\n",
    "    \n",
    "    h = data['resultSets'][0]['headers']\n",
    "    d = data['resultSets'][0]['rowSet']\n",
    "    \n",
    "    return(DataFrame(d, columns=h))"
   ]
  },
  {
   "cell_type": "code",
   "execution_count": null,
   "metadata": {},
   "outputs": [],
   "source": [
    "def get_nba_dash(params, return_url=False):\n",
    "    \n",
    "    from pandas import DataFrame \n",
    "    from urllib.parse import urlencode\n",
    "    import json\n",
    "    \n",
    "    useragent = \"\\\"Mozilla/5.0 (Macintosh; Intel Mac OS X 10_11_2) AppleWebKit/601.3.9 (KHTML, like Gecko) Version/9.0.2 Safari/601.3.9\\\"\"\n",
    "    dataurl = \"\\\"\" + \"http://stats.nba.com/stats/leaguedashplayerstats\" + \"?\" + urlencode(params) + \"\\\"\"\n",
    "    \n",
    "    # for debugging: just return the url\n",
    "    if return_url:\n",
    "        return(dataurl)\n",
    "    \n",
    "    jsonstr = !wget -q -O - --user-agent={useragent} {dataurl}\n",
    "    \n",
    "    data = json.loads(jsonstr[0])\n",
    "    \n",
    "    h = data['resultSets'][0]['headers']\n",
    "    d = data['resultSets'][0]['rowSet']\n",
    "    \n",
    "    return(DataFrame(d, columns=h))"
   ]
  },
  {
   "cell_type": "code",
   "execution_count": null,
   "metadata": {},
   "outputs": [],
   "source": [
    "#get all players\n",
    "params = {'LeagueID':'00', \n",
    "          'Season': '2016-17', \n",
    "          'IsOnlyCurrentSeason': '0'}\n",
    "players = get_nba_data('commonallplayers', params)\n",
    "players = players[players.TO_YEAR == '2017']\n",
    "players.head()"
   ]
  },
  {
   "cell_type": "code",
   "execution_count": null,
   "metadata": {},
   "outputs": [],
   "source": [
    "#get specific players game stats\n",
    "params = {'PlayerID':'1627826',\n",
    "          'Season':'2016-17',\n",
    "          'SeasonType':'Regular Season'}\n",
    "\n",
    "gamedata = get_nba_data('playergamelog', params)\n",
    "gamedata.head()"
   ]
  },
  {
   "cell_type": "code",
   "execution_count": null,
   "metadata": {},
   "outputs": [],
   "source": [
    "#get specific players common info\n",
    "player_params = {'PlayerID':'2544'}\n",
    "\n",
    "playerdata = get_nba_data('commonplayerinfo', player_params)\n",
    "playerdata.head()"
   ]
  },
  {
   "cell_type": "code",
   "execution_count": null,
   "metadata": {},
   "outputs": [],
   "source": [
    "#get specific ratings per player\n",
    "dash_params = {\"MeasureType\":\"Advanced\",\n",
    "               \"PerMode\":\"PerGame\",\n",
    "               \"PlusMinus\":\"N\",\n",
    "               \"PaceAdjust\":\"N\",\n",
    "               \"Rank\":\"N\",\n",
    "               \"LeagueID\":\"00\",\n",
    "               \"Season\":\"2016-17\",\n",
    "               \"SeasonType\":\"Playoffs\",\n",
    "               \"PORound\":'0',\n",
    "               \"Outcome\":'',\n",
    "               \"Location\":'',\n",
    "               \"Month\":'0',\n",
    "               \"SeasonSegment\":'',\n",
    "               \"DateFrom\":'',\n",
    "               \"DateTo\":'',\n",
    "               \"OpponentTeamID\":'0',\n",
    "               \"VsConference\":'',\n",
    "               \"VsDivision\":'',\n",
    "               \"TeamID\":'0',\n",
    "               \"Conference\":'',\n",
    "               \"Division\":'',\n",
    "               \"GameSegment\":'',\n",
    "               \"Period\":'0',\n",
    "               \"ShotClockRange\":'',\n",
    "               \"LastNGames\":'0',\n",
    "               \"GameScope\":'',\n",
    "               \"PlayerExperience\":'',\n",
    "               \"PlayerPosition\":'',\n",
    "               \"StarterBench\":'',\n",
    "               \"DraftYear\":'',\n",
    "               \"DraftPick\":'',\n",
    "               \"College\":'',\n",
    "               \"Country\":'',\n",
    "               \"Height\":'',\n",
    "               \"Weight\":''}\n",
    "ratingsdata = get_nba_dash(dash_params)\n",
    "ratingsdata.head()"
   ]
  },
  {
   "cell_type": "code",
   "execution_count": null,
   "metadata": {},
   "outputs": [],
   "source": []
  }
 ],
 "metadata": {
  "language_info": {
   "name": "python",
   "pygments_lexer": "ipython3"
  }
 },
 "nbformat": 4,
 "nbformat_minor": 2
}
