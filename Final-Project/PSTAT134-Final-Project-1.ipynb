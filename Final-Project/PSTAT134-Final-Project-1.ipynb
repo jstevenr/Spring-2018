{
 "cells": [
  {
   "cell_type": "markdown",
   "metadata": {},
   "source": [
    "# PSTAT134 Final Project\n",
    "## Predicting NBA Player Positions"
   ]
  },
  {
   "cell_type": "code",
   "execution_count": null,
   "metadata": {},
   "outputs": [],
   "source": [
    "import pandas as pd\n",
    "import numpy as np\n",
    "import sklearn.decomposition as skld\n",
    "import matplotlib.pyplot as plt\n",
    "import seaborn as sns\n",
    "import csv\n",
    "\n",
    "import helper_basketball as h\n",
    "import imp\n",
    "imp.reload(h);"
   ]
  },
  {
   "cell_type": "code",
   "execution_count": null,
   "metadata": {},
   "outputs": [],
   "source": [
    "#import data\n",
    "agg_DF = pd.read_csv('NBAPlayerData.csv')\n",
    "\n",
    "agg_DF\n",
    "\n",
    "#rename one column\n",
    "agg_DF.rename(columns = {'\\ufeffPlayer': 'Player'}, inplace = True)"
   ]
  },
  {
   "cell_type": "code",
   "execution_count": null,
   "metadata": {},
   "outputs": [],
   "source": [
    "def get_nba_data(endpt, params, return_url=False):\n",
    "\n",
    "    ## endpt: https://github.com/seemethere/nba_py/wiki/stats.nba.com-Endpoint-Documentation\n",
    "    ## params: dictionary of parameters: i.e., {'LeagueID':'00'}\n",
    "    \n",
    "    from pandas import DataFrame \n",
    "    from urllib.parse import urlencode\n",
    "    import json\n",
    "    \n",
    "    useragent = \"\\\"Mozilla/5.0 (Macintosh; Intel Mac OS X 10_11_2) AppleWebKit/601.3.9 (KHTML, like Gecko) Version/9.0.2 Safari/601.3.9\\\"\"\n",
    "    dataurl = \"\\\"\" + \"http://stats.nba.com/stats/\" + endpt + \"?\" + urlencode(params) + \"\\\"\"\n",
    "    \n",
    "    # for debugging: just return the url\n",
    "    if return_url:\n",
    "        return(dataurl)\n",
    "    \n",
    "    jsonstr = !wget -q -O - --user-agent={useragent} {dataurl}\n",
    "    \n",
    "    data = json.loads(jsonstr[0])\n",
    "    \n",
    "    h = data['resultSets'][0]['headers']\n",
    "    d = data['resultSets'][0]['rowSet']\n",
    "    \n",
    "    return(DataFrame(d, columns=h))"
   ]
  },
  {
   "cell_type": "code",
   "execution_count": null,
   "metadata": {},
   "outputs": [],
   "source": [
    "def get_nba_dash(params, return_url=False):\n",
    "    \n",
    "    from pandas import DataFrame \n",
    "    from urllib.parse import urlencode\n",
    "    import json\n",
    "    \n",
    "    useragent = \"\\\"Mozilla/5.0 (Macintosh; Intel Mac OS X 10_11_2) AppleWebKit/601.3.9 (KHTML, like Gecko) Version/9.0.2 Safari/601.3.9\\\"\"\n",
    "    dataurl = \"\\\"\" + \"http://stats.nba.com/stats/leaguedashplayerstats\" + \"?\" + urlencode(params) + \"\\\"\"\n",
    "    \n",
    "    # for debugging: just return the url\n",
    "    if return_url:\n",
    "        return(dataurl)\n",
    "    \n",
    "    jsonstr = !wget -q -O - --user-agent={useragent} {dataurl}\n",
    "    \n",
    "    data = json.loads(jsonstr[0])\n",
    "    \n",
    "    h = data['resultSets'][0]['headers']\n",
    "    d = data['resultSets'][0]['rowSet']\n",
    "    \n",
    "    return(DataFrame(d, columns=h))"
   ]
  },
  {
   "cell_type": "code",
   "execution_count": null,
   "metadata": {},
   "outputs": [],
   "source": [
    "#get all players\n",
    "params = {'LeagueID':'00', \n",
    "          'Season': '2016-17', \n",
    "          'IsOnlyCurrentSeason': '0'}\n",
    "players = get_nba_data('commonallplayers', params)\n",
    "players = players[players.TO_YEAR == '2017']\n",
    "players.head()"
   ]
  },
  {
   "cell_type": "code",
   "execution_count": null,
   "metadata": {},
   "outputs": [],
   "source": [
    "#get specific players game stats\n",
    "params = {'PlayerID':'1627826',\n",
    "          'Season':'2016-17',\n",
    "          'SeasonType':'Regular Season'}\n",
    "\n",
    "gamedata = get_nba_data('playergamelog', params)\n",
    "gamedata.head()"
   ]
  },
  {
   "cell_type": "code",
   "execution_count": null,
   "metadata": {},
   "outputs": [],
   "source": [
    "#get specific players common info\n",
    "player_params = {'PlayerID':'2544'}\n",
    "\n",
    "playerdata = get_nba_data('commonplayerinfo', player_params)\n",
    "playerdata.head()"
   ]
  },
  {
   "cell_type": "code",
   "execution_count": null,
   "metadata": {},
   "outputs": [],
   "source": [
    "#get specific ratings per player\n",
    "dash_params = {\"MeasureType\":\"Advanced\",\n",
    "               \"PerMode\":\"PerGame\",\n",
    "               \"PlusMinus\":\"N\",\n",
    "               \"PaceAdjust\":\"N\",\n",
    "               \"Rank\":\"N\",\n",
    "               \"LeagueID\":\"00\",\n",
    "               \"Season\":\"2016-17\",\n",
    "               \"SeasonType\":\"Playoffs\",\n",
    "               \"PORound\":'0',\n",
    "               \"Outcome\":'',\n",
    "               \"Location\":'',\n",
    "               \"Month\":'0',\n",
    "               \"SeasonSegment\":'',\n",
    "               \"DateFrom\":'',\n",
    "               \"DateTo\":'',\n",
    "               \"OpponentTeamID\":'0',\n",
    "               \"VsConference\":'',\n",
    "               \"VsDivision\":'',\n",
    "               \"TeamID\":'0',\n",
    "               \"Conference\":'',\n",
    "               \"Division\":'',\n",
    "               \"GameSegment\":'',\n",
    "               \"Period\":'0',\n",
    "               \"ShotClockRange\":'',\n",
    "               \"LastNGames\":'0',\n",
    "               \"GameScope\":'',\n",
    "               \"PlayerExperience\":'',\n",
    "               \"PlayerPosition\":'',\n",
    "               \"StarterBench\":'',\n",
    "               \"DraftYear\":'',\n",
    "               \"DraftPick\":'',\n",
    "               \"College\":'',\n",
    "               \"Country\":'',\n",
    "               \"Height\":'',\n",
    "               \"Weight\":''}\n",
    "ratingsdata = get_nba_dash(dash_params)\n",
    "ratingsdata.head()"
   ]
  },
  {
   "cell_type": "code",
   "execution_count": null,
   "metadata": {},
   "outputs": [],
   "source": [
    "\n",
    "\n"
   ]
  },
  {
   "cell_type": "code",
   "execution_count": null,
   "metadata": {},
   "outputs": [],
   "source": [
    "from sklearn.model_selection import train_test_split\n",
    "from sklearn.linear_model import LogisticRegression\n",
    "import numpy as np\n",
    "import pandas as pd\n",
    "df = pd.read_csv('NBAPlayerData.csv')\n",
    "\n",
    "# using the statistics to predict Position\n",
    "training_features = ['PER', 'TS', 'ORB', 'DRB', 'TRB', 'AST', 'STL', 'BLK', 'TOV', 'USG',\n",
    "       'ORtg', 'DRtg', 'OWS', 'DWS', 'WS']\n",
    "# training_features = training_features.reshape(1,-1)\n",
    "target = 'Position'\n",
    "\n",
    "# splitting into training and test set \n",
    "train_x, test_x, train_y, test_y = train_test_split(df[training_features], df[target], train_size = 0.7, test_size = 0.3)\n",
    "# reshaping the test data\n",
    "test_x = np.array(test_x).reshape(1,-1)\n",
    "\n",
    "# fitting the Logistic Regression model\n",
    "logistic = LogisticRegression()\n",
    "model = logistic.fit(train_x, train_y)"
   ]
  },
  {
   "cell_type": "code",
   "execution_count": null,
   "metadata": {},
   "outputs": [],
   "source": [
    "model.score(train_x, train_y)"
   ]
  },
  {
   "cell_type": "code",
   "execution_count": null,
   "metadata": {},
   "outputs": [],
   "source": [
    "# plot for the distribution of labels in the data\n",
    "import seaborn as sns\n",
    "\n",
    "df = pd.read_csv('NBAPlayerData.csv')\n",
    "# print(df.shape)\n",
    "\n",
    "\n",
    "\n",
    "sns.countplot(x=\"Position\". data=df)"
   ]
  }
 ],
 "metadata": {
  "language_info": {
   "name": "python",
   "pygments_lexer": "ipython3"
  }
 },
 "nbformat": 4,
 "nbformat_minor": 2
}
